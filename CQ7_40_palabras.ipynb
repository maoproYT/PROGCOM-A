{
  "cells": [
    {
      "cell_type": "markdown",
      "metadata": {
        "id": "view-in-github",
        "colab_type": "text"
      },
      "source": [
        "<a href=\"https://colab.research.google.com/github/maoproYT/PROGCOM-A/blob/main/CQ7_40_palabras.ipynb\" target=\"_parent\"><img src=\"https://colab.research.google.com/assets/colab-badge.svg\" alt=\"Open In Colab\"/></a>"
      ]
    },
    {
      "cell_type": "markdown",
      "metadata": {
        "id": "SOZ1jYFfrber"
      },
      "source": [
        "# Palabras reservadas en Python\n",
        "Este cuaderno contiene una breve definición y un ejemplo para cada palabra reservada de Python."
      ],
      "id": "SOZ1jYFfrber"
    },
    {
      "cell_type": "markdown",
      "metadata": {
        "id": "QCvzde4Urbet"
      },
      "source": [
        "1. False\n",
        "**Definición:** Valor booleano falso."
      ],
      "id": "QCvzde4Urbet"
    },
    {
      "cell_type": "code",
      "execution_count": null,
      "metadata": {
        "colab": {
          "base_uri": "https://localhost:8080/"
        },
        "id": "dofJ4qe4rbeu",
        "outputId": "d7d5a055-f019-48f0-ed87-09a1345c3258"
      },
      "outputs": [
        {
          "output_type": "stream",
          "name": "stdout",
          "text": [
            "False\n"
          ]
        }
      ],
      "source": [
        "print(False)"
      ],
      "id": "dofJ4qe4rbeu"
    },
    {
      "cell_type": "markdown",
      "metadata": {
        "id": "AJM6zH_grbeu"
      },
      "source": [
        "2. None\n",
        "**Definición:** Representa la ausencia de valor."
      ],
      "id": "AJM6zH_grbeu"
    },
    {
      "cell_type": "code",
      "execution_count": null,
      "metadata": {
        "colab": {
          "base_uri": "https://localhost:8080/"
        },
        "id": "YJGTiXa_rbeu",
        "outputId": "7ec684e7-6f6a-4a87-bbb3-5d49ecf523c6"
      },
      "outputs": [
        {
          "output_type": "stream",
          "name": "stdout",
          "text": [
            "None\n"
          ]
        }
      ],
      "source": [
        "x = None\n",
        "print(x)"
      ],
      "id": "YJGTiXa_rbeu"
    },
    {
      "cell_type": "markdown",
      "metadata": {
        "id": "wwzOtwiArbeu"
      },
      "source": [
        "3. True\n",
        "**Definición:** Valor booleano verdadero."
      ],
      "id": "wwzOtwiArbeu"
    },
    {
      "cell_type": "code",
      "execution_count": null,
      "metadata": {
        "colab": {
          "base_uri": "https://localhost:8080/"
        },
        "id": "TrKgGvgqrbev",
        "outputId": "f03eaa63-daa6-4e28-bd4d-1a16b8aa48e3"
      },
      "outputs": [
        {
          "output_type": "stream",
          "name": "stdout",
          "text": [
            "True\n"
          ]
        }
      ],
      "source": [
        "print(True)"
      ],
      "id": "TrKgGvgqrbev"
    },
    {
      "cell_type": "markdown",
      "metadata": {
        "id": "sGtPxCfurbev"
      },
      "source": [
        "4. and\n",
        "**Definición:** Operador lógico AND."
      ],
      "id": "sGtPxCfurbev"
    },
    {
      "cell_type": "code",
      "execution_count": null,
      "metadata": {
        "colab": {
          "base_uri": "https://localhost:8080/"
        },
        "id": "MG8P1m9brbev",
        "outputId": "39100019-0ee6-4af4-fc36-44dfa9a1e7dd"
      },
      "outputs": [
        {
          "output_type": "stream",
          "name": "stdout",
          "text": [
            "False\n"
          ]
        }
      ],
      "source": [
        "print(True and False)"
      ],
      "id": "MG8P1m9brbev"
    },
    {
      "cell_type": "markdown",
      "metadata": {
        "id": "B8RgHYHVrbev"
      },
      "source": [
        "5. as\n",
        "**Definición:** Usado para alias en importaciones."
      ],
      "id": "B8RgHYHVrbev"
    },
    {
      "cell_type": "code",
      "execution_count": null,
      "metadata": {
        "colab": {
          "base_uri": "https://localhost:8080/"
        },
        "id": "tFIuzoegrbev",
        "outputId": "bc0b4a3a-3d7f-4e32-c529-d3d99c6890a5"
      },
      "outputs": [
        {
          "output_type": "stream",
          "name": "stdout",
          "text": [
            "3.141592653589793\n"
          ]
        }
      ],
      "source": [
        "import math as m\n",
        "print(m.pi)"
      ],
      "id": "tFIuzoegrbev"
    },
    {
      "cell_type": "markdown",
      "metadata": {
        "id": "DznowaV1rbev"
      },
      "source": [
        "6. assert\n",
        "**Definición:** Verifica que una condición sea verdadera."
      ],
      "id": "DznowaV1rbev"
    },
    {
      "cell_type": "code",
      "execution_count": null,
      "metadata": {
        "id": "_71BAlWkrbev"
      },
      "outputs": [],
      "source": [
        "x = 5\n",
        "assert x > 0"
      ],
      "id": "_71BAlWkrbev"
    },
    {
      "cell_type": "markdown",
      "metadata": {
        "id": "h3LJVKMrrbev"
      },
      "source": [
        "7. break\n",
        "**Definición:** Rompe un ciclo."
      ],
      "id": "h3LJVKMrrbev"
    },
    {
      "cell_type": "code",
      "execution_count": null,
      "metadata": {
        "colab": {
          "base_uri": "https://localhost:8080/"
        },
        "id": "7QCSGc0Vrbev",
        "outputId": "0d32e3aa-6f31-4947-9c52-fd9dacfb5d2e"
      },
      "outputs": [
        {
          "output_type": "stream",
          "name": "stdout",
          "text": [
            "0\n",
            "1\n",
            "2\n"
          ]
        }
      ],
      "source": [
        "for i in range(5):\n",
        "    if i == 3:\n",
        "        break\n",
        "    print(i)"
      ],
      "id": "7QCSGc0Vrbev"
    },
    {
      "cell_type": "markdown",
      "metadata": {
        "id": "XMojAwyirbew"
      },
      "source": [
        "8. class\n",
        "**Definición:** Define una clase."
      ],
      "id": "XMojAwyirbew"
    },
    {
      "cell_type": "code",
      "execution_count": null,
      "metadata": {
        "id": "_p_VRbP_rbew"
      },
      "outputs": [],
      "source": [
        "class Persona:\n",
        "    pass"
      ],
      "id": "_p_VRbP_rbew"
    },
    {
      "cell_type": "markdown",
      "metadata": {
        "id": "6zhcOe50rbew"
      },
      "source": [
        "9. continue\n",
        "**Definición:** Salta a la siguiente iteración del ciclo."
      ],
      "id": "6zhcOe50rbew"
    },
    {
      "cell_type": "code",
      "execution_count": null,
      "metadata": {
        "colab": {
          "base_uri": "https://localhost:8080/"
        },
        "id": "3VpF6kjOrbew",
        "outputId": "3074ee7b-bcd3-4d1e-a73f-a9a90e5140e5"
      },
      "outputs": [
        {
          "output_type": "stream",
          "name": "stdout",
          "text": [
            "0\n",
            "1\n",
            "3\n",
            "4\n"
          ]
        }
      ],
      "source": [
        "for i in range(5):\n",
        "    if i == 2:\n",
        "        continue\n",
        "    print(i)"
      ],
      "id": "3VpF6kjOrbew"
    },
    {
      "cell_type": "markdown",
      "metadata": {
        "id": "6GGrugTWrbew"
      },
      "source": [
        "10. def\n",
        "**Definición:** Define una función."
      ],
      "id": "6GGrugTWrbew"
    },
    {
      "cell_type": "code",
      "execution_count": null,
      "metadata": {
        "id": "CegLcOhbrbew"
      },
      "outputs": [],
      "source": [
        "def saludar():\n",
        "    print('Hola')"
      ],
      "id": "CegLcOhbrbew"
    },
    {
      "cell_type": "markdown",
      "metadata": {
        "id": "-pPdCQOprbew"
      },
      "source": [
        "11. del\n",
        "**Definición:** Elimina una variable."
      ],
      "id": "-pPdCQOprbew"
    },
    {
      "cell_type": "code",
      "execution_count": null,
      "metadata": {
        "id": "-vw-1Igerbew"
      },
      "outputs": [],
      "source": [
        "x = 10\n",
        "del x"
      ],
      "id": "-vw-1Igerbew"
    },
    {
      "cell_type": "markdown",
      "metadata": {
        "id": "KBgvGbjdrbew"
      },
      "source": [
        "12. elif\n",
        "**Definición:** Else if en condicionales."
      ],
      "id": "KBgvGbjdrbew"
    },
    {
      "cell_type": "code",
      "execution_count": null,
      "metadata": {
        "id": "LkjFUHl6rbew"
      },
      "outputs": [],
      "source": [
        "x = 5\n",
        "if x < 0:\n",
        "    print('Negativo')\n",
        "elif x == 0:\n",
        "    print('Cero')"
      ],
      "id": "LkjFUHl6rbew"
    },
    {
      "cell_type": "markdown",
      "metadata": {
        "id": "1b7NuMZnrbew"
      },
      "source": [
        "13. else\n",
        "**Definición:** Bloque alternativo en condicionales."
      ],
      "id": "1b7NuMZnrbew"
    },
    {
      "cell_type": "code",
      "execution_count": null,
      "metadata": {
        "colab": {
          "base_uri": "https://localhost:8080/"
        },
        "id": "EhaHY-UXrbew",
        "outputId": "2f359a30-8fa0-40fe-883e-9c00d7bdfe91"
      },
      "outputs": [
        {
          "output_type": "stream",
          "name": "stdout",
          "text": [
            "Sí\n"
          ]
        }
      ],
      "source": [
        "if False:\n",
        "    print('No')\n",
        "else:\n",
        "    print('Sí')"
      ],
      "id": "EhaHY-UXrbew"
    },
    {
      "cell_type": "markdown",
      "metadata": {
        "id": "vltQ8GUJrbew"
      },
      "source": [
        "14. except\n",
        "**Definición:** Captura excepciones en try-except."
      ],
      "id": "vltQ8GUJrbew"
    },
    {
      "cell_type": "code",
      "execution_count": null,
      "metadata": {
        "colab": {
          "base_uri": "https://localhost:8080/"
        },
        "id": "YiwWPq9irbew",
        "outputId": "ff094858-442b-4909-c13b-78b3f2239258"
      },
      "outputs": [
        {
          "output_type": "stream",
          "name": "stdout",
          "text": [
            "Error\n"
          ]
        }
      ],
      "source": [
        "try:\n",
        "    1/0\n",
        "except:\n",
        "    print('Error')"
      ],
      "id": "YiwWPq9irbew"
    },
    {
      "cell_type": "markdown",
      "metadata": {
        "id": "P8kV9PXbrbew"
      },
      "source": [
        "15. finally\n",
        "**Definición:** Bloque que siempre se ejecuta en try-except."
      ],
      "id": "P8kV9PXbrbew"
    },
    {
      "cell_type": "code",
      "execution_count": null,
      "metadata": {
        "colab": {
          "base_uri": "https://localhost:8080/"
        },
        "id": "vYU2jl3Trbew",
        "outputId": "0a2afefe-1620-4ae2-e83d-94ba596bd3cf"
      },
      "outputs": [
        {
          "output_type": "stream",
          "name": "stdout",
          "text": [
            "Error\n",
            "Se ejecuta siempre\n"
          ]
        }
      ],
      "source": [
        "try:\n",
        "    x = 1/0\n",
        "except:\n",
        "    print('Error')\n",
        "finally:\n",
        "    print('Se ejecuta siempre')"
      ],
      "id": "vYU2jl3Trbew"
    },
    {
      "cell_type": "markdown",
      "metadata": {
        "id": "rA7-tSW2rbex"
      },
      "source": [
        "16. for\n",
        "**Definición:** Ciclo for."
      ],
      "id": "rA7-tSW2rbex"
    },
    {
      "cell_type": "code",
      "execution_count": null,
      "metadata": {
        "colab": {
          "base_uri": "https://localhost:8080/"
        },
        "id": "2d44d3dErbex",
        "outputId": "33cf0440-504c-4232-ae47-0ba3c9d5f985"
      },
      "outputs": [
        {
          "output_type": "stream",
          "name": "stdout",
          "text": [
            "0\n",
            "1\n",
            "2\n"
          ]
        }
      ],
      "source": [
        "for i in range(3):\n",
        "    print(i)"
      ],
      "id": "2d44d3dErbex"
    },
    {
      "cell_type": "markdown",
      "metadata": {
        "id": "FDmX7FdBrbex"
      },
      "source": [
        "17. from\n",
        "**Definición:** Importa parte de un módulo."
      ],
      "id": "FDmX7FdBrbex"
    },
    {
      "cell_type": "code",
      "execution_count": null,
      "metadata": {
        "colab": {
          "base_uri": "https://localhost:8080/"
        },
        "id": "jzcO8xeTrbex",
        "outputId": "252a5365-d61d-41e3-e4ba-bd45c22248a7"
      },
      "outputs": [
        {
          "output_type": "stream",
          "name": "stdout",
          "text": [
            "3.141592653589793\n"
          ]
        }
      ],
      "source": [
        "from math import pi\n",
        "print(pi)"
      ],
      "id": "jzcO8xeTrbex"
    },
    {
      "cell_type": "markdown",
      "metadata": {
        "id": "nI1mhWIWrbex"
      },
      "source": [
        "18. global\n",
        "**Definición:** Declara variables globales."
      ],
      "id": "nI1mhWIWrbex"
    },
    {
      "cell_type": "code",
      "execution_count": null,
      "metadata": {
        "colab": {
          "base_uri": "https://localhost:8080/"
        },
        "id": "DmUq7yPqrbex",
        "outputId": "f2e1638a-c921-4d55-c6dc-377ef244808b"
      },
      "outputs": [
        {
          "output_type": "stream",
          "name": "stdout",
          "text": [
            "10\n"
          ]
        }
      ],
      "source": [
        "x = 5\n",
        "def f():\n",
        "    global x\n",
        "    x = 10\n",
        "f()\n",
        "print(x)"
      ],
      "id": "DmUq7yPqrbex"
    },
    {
      "cell_type": "markdown",
      "metadata": {
        "id": "xp6kiTPArbex"
      },
      "source": [
        "19. if\n",
        "**Definición:** Condicional if."
      ],
      "id": "xp6kiTPArbex"
    },
    {
      "cell_type": "code",
      "execution_count": null,
      "metadata": {
        "colab": {
          "base_uri": "https://localhost:8080/"
        },
        "id": "oNoXQq6Trbex",
        "outputId": "a290f355-af33-4e27-f874-89f068aeec79"
      },
      "outputs": [
        {
          "output_type": "stream",
          "name": "stdout",
          "text": [
            "Se cumple\n"
          ]
        }
      ],
      "source": [
        "if True:\n",
        "    print('Se cumple')"
      ],
      "id": "oNoXQq6Trbex"
    },
    {
      "cell_type": "markdown",
      "metadata": {
        "id": "r8sP1O1Srbe3"
      },
      "source": [
        "20. import\n",
        "**Definición:** Importa módulos."
      ],
      "id": "r8sP1O1Srbe3"
    },
    {
      "cell_type": "code",
      "execution_count": null,
      "metadata": {
        "colab": {
          "base_uri": "https://localhost:8080/"
        },
        "id": "8cftjG_nrbe3",
        "outputId": "345fb9b3-824f-47df-811c-6db0cf4e4d5c"
      },
      "outputs": [
        {
          "output_type": "stream",
          "name": "stdout",
          "text": [
            "3.0\n"
          ]
        }
      ],
      "source": [
        "import math\n",
        "print(math.sqrt(9))"
      ],
      "id": "8cftjG_nrbe3"
    },
    {
      "cell_type": "markdown",
      "metadata": {
        "id": "b96AM7GErbe3"
      },
      "source": [
        "21. in\n",
        "**Definición:** Verifica pertenencia."
      ],
      "id": "b96AM7GErbe3"
    },
    {
      "cell_type": "code",
      "execution_count": null,
      "metadata": {
        "colab": {
          "base_uri": "https://localhost:8080/"
        },
        "id": "HzUOeIdKrbe3",
        "outputId": "588f7ade-e665-494d-c62c-6ee464ea71ac"
      },
      "outputs": [
        {
          "output_type": "stream",
          "name": "stdout",
          "text": [
            "True\n"
          ]
        }
      ],
      "source": [
        "print(2 in [1,2,3])"
      ],
      "id": "HzUOeIdKrbe3"
    },
    {
      "cell_type": "markdown",
      "metadata": {
        "id": "1HjK8E3Srbe3"
      },
      "source": [
        "22. is\n",
        "**Definición:** Verifica identidad de objetos."
      ],
      "id": "1HjK8E3Srbe3"
    },
    {
      "cell_type": "code",
      "execution_count": null,
      "metadata": {
        "colab": {
          "base_uri": "https://localhost:8080/"
        },
        "id": "FAC3RrsVrbe3",
        "outputId": "0977388d-8fb7-4ae6-a125-5609e21d5964"
      },
      "outputs": [
        {
          "output_type": "stream",
          "name": "stdout",
          "text": [
            "True\n"
          ]
        }
      ],
      "source": [
        "x = None\n",
        "print(x is None)"
      ],
      "id": "FAC3RrsVrbe3"
    },
    {
      "cell_type": "markdown",
      "metadata": {
        "id": "sOjmxqv_rbe3"
      },
      "source": [
        "23. lambda\n",
        "**Definición:** Define funciones anónimas."
      ],
      "id": "sOjmxqv_rbe3"
    },
    {
      "cell_type": "code",
      "execution_count": null,
      "metadata": {
        "colab": {
          "base_uri": "https://localhost:8080/"
        },
        "id": "Zhn3pVJerbe3",
        "outputId": "4767c6c9-5485-4bb7-b286-d97a1a676aeb"
      },
      "outputs": [
        {
          "output_type": "stream",
          "name": "stdout",
          "text": [
            "6\n"
          ]
        }
      ],
      "source": [
        "f = lambda x: x*2\n",
        "print(f(3))"
      ],
      "id": "Zhn3pVJerbe3"
    },
    {
      "cell_type": "markdown",
      "metadata": {
        "id": "_FDjig-irbe3"
      },
      "source": [
        "24. nonlocal\n",
        "**Definición:** Declara variables no locales."
      ],
      "id": "_FDjig-irbe3"
    },
    {
      "cell_type": "code",
      "execution_count": null,
      "metadata": {
        "colab": {
          "base_uri": "https://localhost:8080/"
        },
        "id": "D-88QqVyrbe3",
        "outputId": "fac74bc3-8518-48dd-e499-65ffca7ecb2b"
      },
      "outputs": [
        {
          "output_type": "stream",
          "name": "stdout",
          "text": [
            "10\n"
          ]
        }
      ],
      "source": [
        "def f():\n",
        "    x = 5\n",
        "    def g():\n",
        "        nonlocal x\n",
        "        x = 10\n",
        "    g()\n",
        "    print(x)\n",
        "f()"
      ],
      "id": "D-88QqVyrbe3"
    },
    {
      "cell_type": "markdown",
      "metadata": {
        "id": "2LpH4vdarbe3"
      },
      "source": [
        "25. not\n",
        "**Definición:** Operador lógico NOT."
      ],
      "id": "2LpH4vdarbe3"
    },
    {
      "cell_type": "code",
      "execution_count": null,
      "metadata": {
        "colab": {
          "base_uri": "https://localhost:8080/"
        },
        "id": "dPLlbgZbrbe3",
        "outputId": "eaa81964-6ecd-4096-c4a5-befa58778624"
      },
      "outputs": [
        {
          "output_type": "stream",
          "name": "stdout",
          "text": [
            "False\n"
          ]
        }
      ],
      "source": [
        "print(not True)"
      ],
      "id": "dPLlbgZbrbe3"
    },
    {
      "cell_type": "markdown",
      "metadata": {
        "id": "u7GscCG1rbe4"
      },
      "source": [
        "26. or\n",
        "**Definición:** Operador lógico OR."
      ],
      "id": "u7GscCG1rbe4"
    },
    {
      "cell_type": "code",
      "execution_count": null,
      "metadata": {
        "colab": {
          "base_uri": "https://localhost:8080/"
        },
        "id": "2mYS9X_Wrbe4",
        "outputId": "223fc837-a704-449a-b7aa-bf1407b388f9"
      },
      "outputs": [
        {
          "output_type": "stream",
          "name": "stdout",
          "text": [
            "True\n"
          ]
        }
      ],
      "source": [
        "print(True or False)"
      ],
      "id": "2mYS9X_Wrbe4"
    },
    {
      "cell_type": "markdown",
      "metadata": {
        "id": "26EBTXI2rbe4"
      },
      "source": [
        "27. pass\n",
        "**Definición:** No hace nada (placeholder)."
      ],
      "id": "26EBTXI2rbe4"
    },
    {
      "cell_type": "code",
      "execution_count": null,
      "metadata": {
        "id": "khLpxogQrbe4"
      },
      "outputs": [],
      "source": [
        "def f():\n",
        "    pass"
      ],
      "id": "khLpxogQrbe4"
    },
    {
      "cell_type": "markdown",
      "metadata": {
        "id": "t5yumHYWrbe4"
      },
      "source": [
        "28. raise\n",
        "**Definición:** Lanza una excepción."
      ],
      "id": "t5yumHYWrbe4"
    },
    {
      "cell_type": "code",
      "execution_count": null,
      "metadata": {
        "colab": {
          "base_uri": "https://localhost:8080/",
          "height": 141
        },
        "id": "ozFh-Bkjrbe4",
        "outputId": "50a69226-7272-46f9-d4f1-602dff63485f"
      },
      "outputs": [
        {
          "output_type": "error",
          "ename": "ValueError",
          "evalue": "Error intencional",
          "traceback": [
            "\u001b[0;31m---------------------------------------------------------------------------\u001b[0m",
            "\u001b[0;31mValueError\u001b[0m                                Traceback (most recent call last)",
            "\u001b[0;32m/tmp/ipython-input-1151006024.py\u001b[0m in \u001b[0;36m<cell line: 0>\u001b[0;34m()\u001b[0m\n\u001b[0;32m----> 1\u001b[0;31m \u001b[0;32mraise\u001b[0m \u001b[0mValueError\u001b[0m\u001b[0;34m(\u001b[0m\u001b[0;34m'Error intencional'\u001b[0m\u001b[0;34m)\u001b[0m\u001b[0;34m\u001b[0m\u001b[0;34m\u001b[0m\u001b[0m\n\u001b[0m",
            "\u001b[0;31mValueError\u001b[0m: Error intencional"
          ]
        }
      ],
      "source": [
        "raise ValueError('Error intencional')"
      ],
      "id": "ozFh-Bkjrbe4"
    },
    {
      "cell_type": "markdown",
      "metadata": {
        "id": "uX0-1GkOrbe4"
      },
      "source": [
        "29. return\n",
        "**Definición:** Devuelve un valor en una función."
      ],
      "id": "uX0-1GkOrbe4"
    },
    {
      "cell_type": "code",
      "execution_count": null,
      "metadata": {
        "colab": {
          "base_uri": "https://localhost:8080/"
        },
        "id": "_nVBwzHWrbe4",
        "outputId": "edfaca6f-5a05-42b4-b3d0-950acee0e1cb"
      },
      "outputs": [
        {
          "output_type": "stream",
          "name": "stdout",
          "text": [
            "5\n"
          ]
        }
      ],
      "source": [
        "def suma(a,b):\n",
        "    return a+b\n",
        "print(suma(2,3))"
      ],
      "id": "_nVBwzHWrbe4"
    },
    {
      "cell_type": "markdown",
      "metadata": {
        "id": "pq462UiCrbe4"
      },
      "source": [
        "30. try\n",
        "**Definición:** Maneja excepciones."
      ],
      "id": "pq462UiCrbe4"
    },
    {
      "cell_type": "code",
      "execution_count": null,
      "metadata": {
        "colab": {
          "base_uri": "https://localhost:8080/"
        },
        "id": "KM684Z1_rbe4",
        "outputId": "e44455ac-63ae-4cfa-e0b5-63809d7065a7"
      },
      "outputs": [
        {
          "output_type": "stream",
          "name": "stdout",
          "text": [
            "Error\n"
          ]
        }
      ],
      "source": [
        "try:\n",
        "    print(1/0)\n",
        "except:\n",
        "    print('Error')"
      ],
      "id": "KM684Z1_rbe4"
    },
    {
      "cell_type": "markdown",
      "metadata": {
        "id": "kzRsMtOirbe4"
      },
      "source": [
        "31. while\n",
        "**Definición:** Ciclo while."
      ],
      "id": "kzRsMtOirbe4"
    },
    {
      "cell_type": "code",
      "execution_count": null,
      "metadata": {
        "colab": {
          "base_uri": "https://localhost:8080/"
        },
        "id": "OZxNrJFtrbe4",
        "outputId": "9ee8f370-d1d2-477b-af50-edc1d6658da3"
      },
      "outputs": [
        {
          "output_type": "stream",
          "name": "stdout",
          "text": [
            "0\n",
            "1\n",
            "2\n"
          ]
        }
      ],
      "source": [
        "x = 0\n",
        "while x < 3:\n",
        "    print(x)\n",
        "    x+=1"
      ],
      "id": "OZxNrJFtrbe4"
    },
    {
      "cell_type": "markdown",
      "metadata": {
        "id": "8EdJWSRwrbe4"
      },
      "source": [
        "32. with\n",
        "**Definición:** Maneja contexto de recursos."
      ],
      "id": "8EdJWSRwrbe4"
    },
    {
      "cell_type": "code",
      "execution_count": null,
      "metadata": {
        "id": "A35Ivj3Drbe4"
      },
      "outputs": [],
      "source": [
        "with open('archivo.txt','w') as f:\n",
        "    f.write('Hola')"
      ],
      "id": "A35Ivj3Drbe4"
    },
    {
      "cell_type": "markdown",
      "metadata": {
        "id": "2m72doZprbe4"
      },
      "source": [
        "33. yield\n",
        "**Definición:** Devuelve un valor en generadores."
      ],
      "id": "2m72doZprbe4"
    },
    {
      "cell_type": "code",
      "execution_count": null,
      "metadata": {
        "colab": {
          "base_uri": "https://localhost:8080/"
        },
        "id": "codgDRQkrbe4",
        "outputId": "2e3e6093-4dd6-4422-9efa-36fa8721e5b7"
      },
      "outputs": [
        {
          "output_type": "stream",
          "name": "stdout",
          "text": [
            "1\n"
          ]
        }
      ],
      "source": [
        "def gen():\n",
        "    yield 1\n",
        "y = gen()\n",
        "print(next(y))"
      ],
      "id": "codgDRQkrbe4"
    },
    {
      "cell_type": "markdown",
      "source": [
        "34. diccionario:\n",
        "\n",
        "Un tipo de dato que tiene las siguientes carecteristicas\n",
        "\n",
        "```\n",
        "Nombre_dict={}\n",
        "dict2={\"clave\": valor}\n",
        "```\n",
        "\n",
        "la \"clave o llave\" siempre es alfanumerica\n",
        "valor: puede ser cualquier tipo de dato"
      ],
      "metadata": {
        "id": "WNE5HskMro6i"
      },
      "id": "WNE5HskMro6i"
    },
    {
      "cell_type": "code",
      "source": [
        "Equipos_de_futbol={\"Colombia\":[\"Millonarios\",\"Nacional\",\"Santa fe\"]}"
      ],
      "metadata": {
        "id": "ofNCJHQarm1p"
      },
      "id": "ofNCJHQarm1p",
      "execution_count": null,
      "outputs": []
    },
    {
      "cell_type": "markdown",
      "source": [
        "35. print\n",
        "\n",
        "Definición: Función que muestra información en pantalla."
      ],
      "metadata": {
        "id": "cN0yWjNht3m5"
      },
      "id": "cN0yWjNht3m5"
    },
    {
      "cell_type": "code",
      "source": [
        "print(\"Hola\")"
      ],
      "metadata": {
        "colab": {
          "base_uri": "https://localhost:8080/"
        },
        "id": "24a-UiSit5N5",
        "outputId": "be836de9-25d2-48e9-8a3c-3ebd148052f8"
      },
      "id": "24a-UiSit5N5",
      "execution_count": null,
      "outputs": [
        {
          "output_type": "stream",
          "name": "stdout",
          "text": [
            "Hola\n"
          ]
        }
      ]
    },
    {
      "cell_type": "markdown",
      "source": [
        "36. input\n",
        "\n",
        "Definición: Función que recibe texto desde el teclado."
      ],
      "metadata": {
        "id": "IXiWei1cuGrj"
      },
      "id": "IXiWei1cuGrj"
    },
    {
      "cell_type": "code",
      "source": [
        "nombre = input(\"Escribe tu nombre: \")\n",
        "print(\"Hola\", nombre)\n"
      ],
      "metadata": {
        "colab": {
          "base_uri": "https://localhost:8080/"
        },
        "id": "ZhXQ_ZoHuMLC",
        "outputId": "845f204c-d506-42c8-eb77-7cbcd26b57d8"
      },
      "id": "ZhXQ_ZoHuMLC",
      "execution_count": null,
      "outputs": [
        {
          "output_type": "stream",
          "name": "stdout",
          "text": [
            "Escribe tu nombre: Andres\n",
            "Hola Andres\n"
          ]
        }
      ]
    },
    {
      "cell_type": "markdown",
      "source": [
        "37. len\n",
        "\n",
        "Definición: Devuelve la cantidad de elementos de una lista, cadena u objeto iterable."
      ],
      "metadata": {
        "id": "lIpmVp80uQex"
      },
      "id": "lIpmVp80uQex"
    },
    {
      "cell_type": "code",
      "source": [
        "print(len(\"Python\"))\n"
      ],
      "metadata": {
        "colab": {
          "base_uri": "https://localhost:8080/"
        },
        "id": "PLE9YWwxuSXR",
        "outputId": "9ae8b8ba-3004-4aca-a362-d3fc96f64c35"
      },
      "id": "PLE9YWwxuSXR",
      "execution_count": null,
      "outputs": [
        {
          "output_type": "stream",
          "name": "stdout",
          "text": [
            "6\n"
          ]
        }
      ]
    },
    {
      "cell_type": "markdown",
      "source": [
        "38. range\n",
        "\n",
        "Definición: Genera una secuencia de números, muy usada en ciclos for."
      ],
      "metadata": {
        "id": "cJ2QjDeRuUBR"
      },
      "id": "cJ2QjDeRuUBR"
    },
    {
      "cell_type": "code",
      "source": [
        "for i in range(3):\n",
        "    print(i)\n"
      ],
      "metadata": {
        "colab": {
          "base_uri": "https://localhost:8080/"
        },
        "id": "LF-3satcuXsB",
        "outputId": "6a696b18-79a0-47f5-a93c-5e87b7f449c9"
      },
      "id": "LF-3satcuXsB",
      "execution_count": null,
      "outputs": [
        {
          "output_type": "stream",
          "name": "stdout",
          "text": [
            "0\n",
            "1\n",
            "2\n"
          ]
        }
      ]
    },
    {
      "cell_type": "markdown",
      "source": [
        "#Match\n",
        "Se usa para implementar pattern matching (comparación de patrones). Es similar a switch en otros lenguajes."
      ],
      "metadata": {
        "id": "87mYvWRYQSt3"
      },
      "id": "87mYvWRYQSt3"
    },
    {
      "cell_type": "code",
      "source": [
        "x = 2\n",
        "match x:\n",
        "    case 1:\n",
        "        print(\"Uno\")\n",
        "    case 2:\n",
        "        print(\"Dos\")\n",
        "    case _:\n",
        "        print(\"Otro número\")\n"
      ],
      "metadata": {
        "colab": {
          "base_uri": "https://localhost:8080/"
        },
        "id": "qddMgQ5iQVgd",
        "outputId": "145f9471-2776-472f-9dce-f01d6217c6f9"
      },
      "id": "qddMgQ5iQVgd",
      "execution_count": 1,
      "outputs": [
        {
          "output_type": "stream",
          "name": "stdout",
          "text": [
            "Dos\n"
          ]
        }
      ]
    },
    {
      "cell_type": "markdown",
      "source": [
        "#case\n",
        "Se utiliza dentro de match para definir los diferentes patrones a comparar."
      ],
      "metadata": {
        "id": "2rM73mN5Qa3D"
      },
      "id": "2rM73mN5Qa3D"
    },
    {
      "cell_type": "code",
      "source": [
        "fruta = \"manzana\"\n",
        "match fruta:\n",
        "    case \"manzana\":\n",
        "        print(\"Es una manzana\")\n",
        "    case \"pera\":\n",
        "        print(\"Es una pera\")\n"
      ],
      "metadata": {
        "id": "U2REHk34QaHb",
        "outputId": "2a23c83e-b261-46bf-e9d5-3a9d9f8983ee",
        "colab": {
          "base_uri": "https://localhost:8080/"
        }
      },
      "id": "U2REHk34QaHb",
      "execution_count": 2,
      "outputs": [
        {
          "output_type": "stream",
          "name": "stdout",
          "text": [
            "Es una manzana\n"
          ]
        }
      ]
    }
  ],
  "metadata": {
    "kernelspec": {
      "display_name": "Python 3",
      "language": "python",
      "name": "python3"
    },
    "language_info": {
      "file_extension": ".py",
      "mimetype": "text/x-python",
      "name": "python",
      "pygments_lexer": "ipython3",
      "version": "3.10"
    },
    "colab": {
      "provenance": [],
      "include_colab_link": true
    }
  },
  "nbformat": 4,
  "nbformat_minor": 5
}