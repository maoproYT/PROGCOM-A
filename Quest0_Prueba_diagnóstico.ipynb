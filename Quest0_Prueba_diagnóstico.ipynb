{
  "nbformat": 4,
  "nbformat_minor": 0,
  "metadata": {
    "colab": {
      "provenance": [],
      "authorship_tag": "ABX9TyO6o8wpc2X+qkiw1hvO6hRV",
      "include_colab_link": true
    },
    "kernelspec": {
      "name": "python3",
      "display_name": "Python 3"
    },
    "language_info": {
      "name": "python"
    }
  },
  "cells": [
    {
      "cell_type": "markdown",
      "metadata": {
        "id": "view-in-github",
        "colab_type": "text"
      },
      "source": [
        "<a href=\"https://colab.research.google.com/github/maoproYT/PROGCOM-A/blob/main/Quest0_Prueba_diagn%C3%B3stico.ipynb\" target=\"_parent\"><img src=\"https://colab.research.google.com/assets/colab-badge.svg\" alt=\"Open In Colab\"/></a>"
      ]
    },
    {
      "cell_type": "markdown",
      "source": [
        "#Escriba un programa que diga si un numero es negativo o positivo"
      ],
      "metadata": {
        "id": "pCbsjtb6VXe9"
      }
    },
    {
      "cell_type": "code",
      "source": [
        "numero = int(input(\"digita un numero de forma numérico\"))\n",
        "if numero > 0:\n",
        "  print(\"es positivo\")\n",
        "elif numero== 0:\n",
        "  print(\"es neutro\")\n",
        "else:\n",
        "  print(\"es negativo\")"
      ],
      "metadata": {
        "colab": {
          "base_uri": "https://localhost:8080/"
        },
        "id": "88KNPV5VVYN0",
        "outputId": "03043b6c-6887-4550-e5f7-7f513a727e5a"
      },
      "execution_count": 30,
      "outputs": [
        {
          "output_type": "stream",
          "name": "stdout",
          "text": [
            "digita un numero de forma numérico0\n",
            "es neutro\n"
          ]
        }
      ]
    },
    {
      "cell_type": "code",
      "source": [
        "\n",
        " edad = int(input(\"digite la edad que usted tiene\"))\n",
        " if edad >= 18:\n",
        "   print(\"Eres mayor de edad\")\n",
        " else:\n",
        "   print(\"eres un bebe\")"
      ],
      "metadata": {
        "colab": {
          "base_uri": "https://localhost:8080/"
        },
        "id": "a_TKW2VjWgwU",
        "outputId": "7e9e4bcd-eab8-4681-d27d-2403f37e8e3c"
      },
      "execution_count": 56,
      "outputs": [
        {
          "output_type": "stream",
          "name": "stdout",
          "text": [
            "digite la edad que usted tiene10\n",
            "eres un bebe\n"
          ]
        }
      ]
    },
    {
      "cell_type": "code",
      "source": [
        "a = int(input(\"digita un numero\"))\n",
        "b = int(input(\"digita otro numero\"))\n",
        "if a > b:\n",
        "  print(\"el numero más grande es:\" , a)\n",
        "elif a == b:\n",
        "  print(\"tanto\", a , \"como\", b, \"son iguales\")\n",
        "else:\n",
        "  print(\"el numero más grande es:\", b)"
      ],
      "metadata": {
        "colab": {
          "base_uri": "https://localhost:8080/"
        },
        "id": "G2-vvUdeXEX7",
        "outputId": "463b0f93-82d3-401d-ab0c-046a5c00d8b0"
      },
      "execution_count": 28,
      "outputs": [
        {
          "output_type": "stream",
          "name": "stdout",
          "text": [
            "digita un numero10\n",
            "digita otro numero10\n",
            "tanto 10 como 10 son iguales\n"
          ]
        }
      ]
    },
    {
      "cell_type": "code",
      "source": [
        "a = int(input(\"digite la calificación final\"))\n",
        "if a >=60:\n",
        "  print(\"felicidades, pasaste el parcial\")\n",
        "else:\n",
        "  print(\"perdiste la nota final\")"
      ],
      "metadata": {
        "colab": {
          "base_uri": "https://localhost:8080/"
        },
        "id": "3_fhe3IkYIqC",
        "outputId": "92a41c42-db2e-4a0e-d345-1d3595174802"
      },
      "execution_count": 33,
      "outputs": [
        {
          "output_type": "stream",
          "name": "stdout",
          "text": [
            "digite la calificación final100\n",
            "felicidades, pasaste el parcial\n"
          ]
        }
      ]
    },
    {
      "cell_type": "code",
      "source": [
        "a = int(input(\"digita un numero para saber si es par o impar\"))\n",
        "if a % 2 == 0:\n",
        "  print(\"es par\")\n",
        "else:\n",
        "  print(\"es impar\")"
      ],
      "metadata": {
        "colab": {
          "base_uri": "https://localhost:8080/"
        },
        "id": "uM4EPv_XYyJZ",
        "outputId": "ffd054ee-d6af-4173-dffe-e3acbe345c64"
      },
      "execution_count": 35,
      "outputs": [
        {
          "output_type": "stream",
          "name": "stdout",
          "text": [
            "digita un numero para saber si es par o impar3\n",
            "es impar\n"
          ]
        }
      ]
    },
    {
      "cell_type": "code",
      "source": [
        "numeros = []\n",
        "\n",
        "for i in range(3):\n",
        "  numero = int(input(\"ingrese la cantidad de numeros que puso\"))\n",
        "  numeros.append(numero)\n",
        "mayor = max(numeros)\n",
        "print(\"el numero más grande es\", mayor)\n"
      ],
      "metadata": {
        "colab": {
          "base_uri": "https://localhost:8080/"
        },
        "id": "U2WnrQJXZEcp",
        "outputId": "88088b66-f840-4769-c4bd-a9eb1de0f783"
      },
      "execution_count": 55,
      "outputs": [
        {
          "output_type": "stream",
          "name": "stdout",
          "text": [
            "ingrese la cantidad de numeros que puso4\n",
            "ingrese la cantidad de numeros que puso5\n",
            "ingrese la cantidad de numeros que puso7\n",
            "el numero más grande es 7\n"
          ]
        }
      ]
    },
    {
      "cell_type": "code",
      "source": [
        "print(\"calcula un año bisiesto\")\n",
        "a = int(input(\"digite un año al azar\"))\n",
        "if a % 4 == 0 and a % 400 == 0:\n",
        "  print(\"es bisiesto\")\n",
        "else:\n",
        "  print(\"no es\")\n",
        "\n",
        "\n"
      ],
      "metadata": {
        "colab": {
          "base_uri": "https://localhost:8080/"
        },
        "id": "UNUG6z_-a4M4",
        "outputId": "50624f61-928f-4db1-afda-0a26e8c52582"
      },
      "execution_count": 52,
      "outputs": [
        {
          "output_type": "stream",
          "name": "stdout",
          "text": [
            "calcula un año bisiesto\n",
            "digite un año al azar1743\n",
            "no es\n"
          ]
        }
      ]
    },
    {
      "cell_type": "code",
      "source": [
        "print(\"evaluador de contraseñas\")\n",
        "a = str(input(\"dgite una contraseña con minimo una mayuscula y un numero\"))\n",
        "if a > 8 and a == upper():\n",
        "  print(\"es valida\")\n",
        "else:\n",
        "  print(\"no es valida\")"
      ],
      "metadata": {
        "colab": {
          "base_uri": "https://localhost:8080/",
          "height": 245
        },
        "id": "UPcC1gGIbxrn",
        "outputId": "f3cca739-2c2a-44f7-9c25-808f37e13ae5"
      },
      "execution_count": 54,
      "outputs": [
        {
          "name": "stdout",
          "output_type": "stream",
          "text": [
            "evaluador de contraseñas\n",
            "dgite una contraseña con minimo una mayuscula y un numeromauri9\n"
          ]
        },
        {
          "output_type": "error",
          "ename": "TypeError",
          "evalue": "'>' not supported between instances of 'str' and 'int'",
          "traceback": [
            "\u001b[0;31m---------------------------------------------------------------------------\u001b[0m",
            "\u001b[0;31mTypeError\u001b[0m                                 Traceback (most recent call last)",
            "\u001b[0;32m/tmp/ipython-input-1246845750.py\u001b[0m in \u001b[0;36m<cell line: 0>\u001b[0;34m()\u001b[0m\n\u001b[1;32m      1\u001b[0m \u001b[0mprint\u001b[0m\u001b[0;34m(\u001b[0m\u001b[0;34m\"evaluador de contraseñas\"\u001b[0m\u001b[0;34m)\u001b[0m\u001b[0;34m\u001b[0m\u001b[0;34m\u001b[0m\u001b[0m\n\u001b[1;32m      2\u001b[0m \u001b[0ma\u001b[0m \u001b[0;34m=\u001b[0m \u001b[0mstr\u001b[0m\u001b[0;34m(\u001b[0m\u001b[0minput\u001b[0m\u001b[0;34m(\u001b[0m\u001b[0;34m\"dgite una contraseña con minimo una mayuscula y un numero\"\u001b[0m\u001b[0;34m)\u001b[0m\u001b[0;34m)\u001b[0m\u001b[0;34m\u001b[0m\u001b[0;34m\u001b[0m\u001b[0m\n\u001b[0;32m----> 3\u001b[0;31m \u001b[0;32mif\u001b[0m \u001b[0ma\u001b[0m \u001b[0;34m>\u001b[0m \u001b[0;36m8\u001b[0m \u001b[0;32mand\u001b[0m \u001b[0ma\u001b[0m \u001b[0;34m==\u001b[0m \u001b[0mupper\u001b[0m\u001b[0;34m(\u001b[0m\u001b[0;34m)\u001b[0m\u001b[0;34m:\u001b[0m\u001b[0;34m\u001b[0m\u001b[0;34m\u001b[0m\u001b[0m\n\u001b[0m\u001b[1;32m      4\u001b[0m   \u001b[0mprint\u001b[0m\u001b[0;34m(\u001b[0m\u001b[0;34m\"es valida\"\u001b[0m\u001b[0;34m)\u001b[0m\u001b[0;34m\u001b[0m\u001b[0;34m\u001b[0m\u001b[0m\n\u001b[1;32m      5\u001b[0m \u001b[0;32melse\u001b[0m\u001b[0;34m:\u001b[0m\u001b[0;34m\u001b[0m\u001b[0;34m\u001b[0m\u001b[0m\n",
            "\u001b[0;31mTypeError\u001b[0m: '>' not supported between instances of 'str' and 'int'"
          ]
        }
      ]
    }
  ]
}