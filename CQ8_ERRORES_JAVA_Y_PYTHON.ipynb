{
  "nbformat": 4,
  "nbformat_minor": 0,
  "metadata": {
    "colab": {
      "provenance": [],
      "include_colab_link": true
    },
    "kernelspec": {
      "name": "python3",
      "display_name": "Python 3"
    },
    "language_info": {
      "name": "python"
    }
  },
  "cells": [
    {
      "cell_type": "markdown",
      "metadata": {
        "id": "view-in-github",
        "colab_type": "text"
      },
      "source": [
        "<a href=\"https://colab.research.google.com/github/maoproYT/PROGCOM-A/blob/main/CQ8_ERRORES_JAVA_Y_PYTHON.ipynb\" target=\"_parent\"><img src=\"https://colab.research.google.com/assets/colab-badge.svg\" alt=\"Open In Colab\"/></a>"
      ]
    },
    {
      "cell_type": "markdown",
      "source": [
        "## Errores en java o python\n",
        "\n",
        "## PYTHON\n",
        "\n",
        "1. NameError (Variable no definida)\n",
        "  - Ocurre cuando se intenta usar una variable que no ha sido declarada.\n",
        "  - Solución: definir la variable antes de usarla."
      ],
      "metadata": {
        "id": "K7R5y5D-l09K"
      }
    },
    {
      "cell_type": "code",
      "execution_count": 1,
      "metadata": {
        "colab": {
          "base_uri": "https://localhost:8080/",
          "height": 141
        },
        "id": "5Z8YaULyly8Q",
        "outputId": "0e4d0d7d-7386-4010-a159-785bc04bd902"
      },
      "outputs": [
        {
          "output_type": "error",
          "ename": "NameError",
          "evalue": "name 'edad' is not defined",
          "traceback": [
            "\u001b[0;31m---------------------------------------------------------------------------\u001b[0m",
            "\u001b[0;31mNameError\u001b[0m                                 Traceback (most recent call last)",
            "\u001b[0;32m/tmp/ipython-input-3084447911.py\u001b[0m in \u001b[0;36m<cell line: 0>\u001b[0;34m()\u001b[0m\n\u001b[0;32m----> 1\u001b[0;31m \u001b[0mprint\u001b[0m\u001b[0;34m(\u001b[0m\u001b[0medad\u001b[0m\u001b[0;34m)\u001b[0m\u001b[0;34m\u001b[0m\u001b[0;34m\u001b[0m\u001b[0m\n\u001b[0m",
            "\u001b[0;31mNameError\u001b[0m: name 'edad' is not defined"
          ]
        }
      ],
      "source": [
        "print(edad)"
      ]
    },
    {
      "cell_type": "code",
      "source": [
        "edad=25\n",
        "print(edad)"
      ],
      "metadata": {
        "colab": {
          "base_uri": "https://localhost:8080/"
        },
        "id": "-_xOErjZmXtS",
        "outputId": "48e9c362-6046-4d49-98e5-f49c9121c70d"
      },
      "execution_count": null,
      "outputs": [
        {
          "output_type": "stream",
          "name": "stdout",
          "text": [
            "25\n"
          ]
        }
      ]
    },
    {
      "cell_type": "markdown",
      "source": [
        "2. ZeroDivisionError\n",
        "\n",
        "Este error ocurre cuando intentamos hacer una división en la que el divisor es 0, lo cual no está permitido en matemáticas ni en programación.\n",
        "\n",
        "Para evitarlo, debemos comprobar antes que el número del denominador sea diferente de cero."
      ],
      "metadata": {
        "id": "GbuNr_YFmbXv"
      }
    },
    {
      "cell_type": "code",
      "source": [
        "division= 10 / 0"
      ],
      "metadata": {
        "colab": {
          "base_uri": "https://localhost:8080/",
          "height": 141
        },
        "id": "EReugW5DnTjh",
        "outputId": "d1f1cef7-2775-4929-976e-c69d04bee70a"
      },
      "execution_count": null,
      "outputs": [
        {
          "output_type": "error",
          "ename": "ZeroDivisionError",
          "evalue": "division by zero",
          "traceback": [
            "\u001b[0;31m---------------------------------------------------------------------------\u001b[0m",
            "\u001b[0;31mZeroDivisionError\u001b[0m                         Traceback (most recent call last)",
            "\u001b[0;32m/tmp/ipython-input-3241316002.py\u001b[0m in \u001b[0;36m<cell line: 0>\u001b[0;34m()\u001b[0m\n\u001b[0;32m----> 1\u001b[0;31m \u001b[0mdivision\u001b[0m\u001b[0;34m=\u001b[0m \u001b[0;36m10\u001b[0m \u001b[0;34m/\u001b[0m \u001b[0;36m0\u001b[0m\u001b[0;34m\u001b[0m\u001b[0;34m\u001b[0m\u001b[0m\n\u001b[0m",
            "\u001b[0;31mZeroDivisionError\u001b[0m: division by zero"
          ]
        }
      ]
    },
    {
      "cell_type": "code",
      "source": [
        "# Esta seria la solucion o la fomra de evitar el error\n",
        "\n",
        "denominador = 0\n",
        "if denominador != 0:\n",
        "    resultado = 10 / denominador\n",
        "else:\n",
        "    resultado = \"No se puede dividir entre cero\"\n",
        "print(resultado)\n"
      ],
      "metadata": {
        "colab": {
          "base_uri": "https://localhost:8080/"
        },
        "id": "QSomotwqnYaY",
        "outputId": "ee01e2cd-4a75-46b9-fedb-e12f72aae543"
      },
      "execution_count": null,
      "outputs": [
        {
          "output_type": "stream",
          "name": "stdout",
          "text": [
            "No se puede dividir entre cero\n"
          ]
        }
      ]
    },
    {
      "cell_type": "markdown",
      "source": [
        "3. IndexError\n",
        "\n",
        "Este error aparece cuando tratamos de acceder a una posición de la lista que no existe, es decir, cuando el índice que usamos es mayor al número de elementos disponibles.\n",
        "\n",
        "Para solucionarlo, primero debemos comprobar cuántos elementos tiene la lista antes de intentar acceder a una posición."
      ],
      "metadata": {
        "id": "mgp5X_0wngrR"
      }
    },
    {
      "cell_type": "code",
      "source": [
        "lista = [1, 2, 3]\n",
        "print(lista[5])"
      ],
      "metadata": {
        "colab": {
          "base_uri": "https://localhost:8080/",
          "height": 158
        },
        "id": "RSdGB32pna1A",
        "outputId": "5dcaf69e-ad77-4056-f3a0-d056a5c3e181"
      },
      "execution_count": null,
      "outputs": [
        {
          "output_type": "error",
          "ename": "IndexError",
          "evalue": "list index out of range",
          "traceback": [
            "\u001b[0;31m---------------------------------------------------------------------------\u001b[0m",
            "\u001b[0;31mIndexError\u001b[0m                                Traceback (most recent call last)",
            "\u001b[0;32m/tmp/ipython-input-2207859219.py\u001b[0m in \u001b[0;36m<cell line: 0>\u001b[0;34m()\u001b[0m\n\u001b[1;32m      1\u001b[0m \u001b[0mlista\u001b[0m \u001b[0;34m=\u001b[0m \u001b[0;34m[\u001b[0m\u001b[0;36m1\u001b[0m\u001b[0;34m,\u001b[0m \u001b[0;36m2\u001b[0m\u001b[0;34m,\u001b[0m \u001b[0;36m3\u001b[0m\u001b[0;34m]\u001b[0m\u001b[0;34m\u001b[0m\u001b[0;34m\u001b[0m\u001b[0m\n\u001b[0;32m----> 2\u001b[0;31m \u001b[0mprint\u001b[0m\u001b[0;34m(\u001b[0m\u001b[0mlista\u001b[0m\u001b[0;34m[\u001b[0m\u001b[0;36m5\u001b[0m\u001b[0;34m]\u001b[0m\u001b[0;34m)\u001b[0m\u001b[0;34m\u001b[0m\u001b[0;34m\u001b[0m\u001b[0m\n\u001b[0m",
            "\u001b[0;31mIndexError\u001b[0m: list index out of range"
          ]
        }
      ]
    },
    {
      "cell_type": "code",
      "source": [
        "lista = [1, 2, 3]\n",
        "if len(lista) > 2:\n",
        "    print(lista[2])"
      ],
      "metadata": {
        "colab": {
          "base_uri": "https://localhost:8080/"
        },
        "id": "9jXvQ9zSnyVI",
        "outputId": "f0db5ec5-5463-467b-b3c0-9e3e95730b88"
      },
      "execution_count": null,
      "outputs": [
        {
          "output_type": "stream",
          "name": "stdout",
          "text": [
            "3\n"
          ]
        }
      ]
    },
    {
      "cell_type": "markdown",
      "source": [
        "4. AttributeError\n",
        "\n",
        "Este error surge cuando intentamos llamar un método que ese tipo de dato no tiene.\n",
        "\n",
        "La solución es revisar qué métodos realmente existen para ese objeto y usarlos correctamente."
      ],
      "metadata": {
        "id": "LSVVBfscogF5"
      }
    },
    {
      "cell_type": "code",
      "source": [
        "numeros = [1, 2, 3]\n",
        "numeros.upper()"
      ],
      "metadata": {
        "colab": {
          "base_uri": "https://localhost:8080/",
          "height": 158
        },
        "id": "T1oV48J1oWGy",
        "outputId": "cfe3399e-a7aa-46d9-c9fd-c84409349fb5"
      },
      "execution_count": null,
      "outputs": [
        {
          "output_type": "error",
          "ename": "AttributeError",
          "evalue": "'list' object has no attribute 'upper'",
          "traceback": [
            "\u001b[0;31m---------------------------------------------------------------------------\u001b[0m",
            "\u001b[0;31mAttributeError\u001b[0m                            Traceback (most recent call last)",
            "\u001b[0;32m/tmp/ipython-input-1687832919.py\u001b[0m in \u001b[0;36m<cell line: 0>\u001b[0;34m()\u001b[0m\n\u001b[1;32m      1\u001b[0m \u001b[0mnumeros\u001b[0m \u001b[0;34m=\u001b[0m \u001b[0;34m[\u001b[0m\u001b[0;36m1\u001b[0m\u001b[0;34m,\u001b[0m \u001b[0;36m2\u001b[0m\u001b[0;34m,\u001b[0m \u001b[0;36m3\u001b[0m\u001b[0;34m]\u001b[0m\u001b[0;34m\u001b[0m\u001b[0;34m\u001b[0m\u001b[0m\n\u001b[0;32m----> 2\u001b[0;31m \u001b[0mnumeros\u001b[0m\u001b[0;34m.\u001b[0m\u001b[0mupper\u001b[0m\u001b[0;34m(\u001b[0m\u001b[0;34m)\u001b[0m\u001b[0;34m\u001b[0m\u001b[0;34m\u001b[0m\u001b[0m\n\u001b[0m",
            "\u001b[0;31mAttributeError\u001b[0m: 'list' object has no attribute 'upper'"
          ]
        }
      ]
    },
    {
      "cell_type": "code",
      "source": [
        "numeros = [1, 2, 3]\n",
        "numeros.append(4)\n",
        "print(numeros)\n"
      ],
      "metadata": {
        "colab": {
          "base_uri": "https://localhost:8080/"
        },
        "id": "8vMVGU2Colu5",
        "outputId": "dbf7a69c-62aa-4875-f96c-2f9c5560b539"
      },
      "execution_count": null,
      "outputs": [
        {
          "output_type": "stream",
          "name": "stdout",
          "text": [
            "[1, 2, 3, 4]\n"
          ]
        }
      ]
    },
    {
      "cell_type": "markdown",
      "source": [
        "5. SyntaxError (Error de sintaxis)\n",
        "\n",
        "Este error aparece cuando el programa está mal escrito y Python no puede interpretarlo.\n",
        "\n",
        "Sucede, por ejemplo, si faltan paréntesis, comillas o se coloca mal alguna palabra clave.\n",
        "\n",
        "La solución es revisar cuidadosamente que la instrucción esté bien formada antes de ejecutarla."
      ],
      "metadata": {
        "id": "ISFYt025oocA"
      }
    },
    {
      "cell_type": "code",
      "source": [
        "for i in range(2)\n",
        "  print(\"hola\")"
      ],
      "metadata": {
        "colab": {
          "base_uri": "https://localhost:8080/",
          "height": 106
        },
        "id": "MYM-AyQRo1xS",
        "outputId": "5dedaf0c-8294-443b-dc26-47c7819cc522"
      },
      "execution_count": null,
      "outputs": [
        {
          "output_type": "error",
          "ename": "SyntaxError",
          "evalue": "expected ':' (ipython-input-708178021.py, line 1)",
          "traceback": [
            "\u001b[0;36m  File \u001b[0;32m\"/tmp/ipython-input-708178021.py\"\u001b[0;36m, line \u001b[0;32m1\u001b[0m\n\u001b[0;31m    for i in range(2)\u001b[0m\n\u001b[0m                     ^\u001b[0m\n\u001b[0;31mSyntaxError\u001b[0m\u001b[0;31m:\u001b[0m expected ':'\n"
          ]
        }
      ]
    },
    {
      "cell_type": "code",
      "source": [
        "for i in range(2):\n",
        "  print(\"hola\")"
      ],
      "metadata": {
        "colab": {
          "base_uri": "https://localhost:8080/"
        },
        "id": "Jg2bqr3OpBIg",
        "outputId": "63e771dc-14a4-4047-ec29-baaa89c885b4"
      },
      "execution_count": null,
      "outputs": [
        {
          "output_type": "stream",
          "name": "stdout",
          "text": [
            "hola\n",
            "hola\n"
          ]
        }
      ]
    },
    {
      "cell_type": "markdown",
      "source": [
        "1. NullPointerException\n",
        "\n",
        "Aparece cuando se intenta usar un objeto que no fue inicializado (es decir, que vale null).\n",
        "\n",
        "ERROR:\n",
        "```\n",
        "String nombre = null;\n",
        "System.out.println(nombre.length());\n",
        "```\n",
        "SOLUCION:\n",
        "```\n",
        "String nombre = \"Ana\";\n",
        "System.out.println(nombre.length());\n",
        "```\n",
        "2. ArrayIndexOutOfBoundsException\n",
        "\n",
        "Ocurre al intentar acceder a una posición de un arreglo que no existe.\n",
        "\n",
        "ERROR:\n",
        "\n",
        "```\n",
        "int[] numeros = {1, 2, 3};\n",
        "System.out.println(numeros[5]); //no existe la posición 5\n",
        "```\n",
        "SOLUCION:\n",
        "```\n",
        "int[] numeros = {1, 2, 3};\n",
        "System.out.println(numeros[2]); // accedemos a una posición válida\n",
        "```\n",
        "3. ArithmeticException\n",
        "\n",
        "Se produce cuando se realizan operaciones matemáticas inválidas, como dividir entre cero.\n",
        "\n",
        "ERROR:\n",
        "\n",
        "```\n",
        "int resultado = 10 / 0;\n",
        "```\n",
        "SOLUCION:\n",
        "\n",
        "```\n",
        "int divisor = 0;\n",
        "if (divisor != 0) {\n",
        "    int resultado = 10 / divisor;\n",
        "    System.out.println(resultado);\n",
        "} else {\n",
        "    System.out.println(\"No se puede dividir entre cero\");\n",
        "}\n",
        "```\n",
        "4. NumberFormatException\n",
        "\n",
        "Sucede al intentar convertir un texto en número cuando el texto no es válido.\n",
        "\n",
        "ERROR:\n",
        "\n",
        "```\n",
        "String texto = \"hola\";\n",
        "int numero = Integer.parseInt(texto);\n",
        "```\n",
        "SOLUCION:\n",
        "```\n",
        "String texto = \"123\";\n",
        "int numero = Integer.parseInt(texto);\n",
        "System.out.println(numero);\n",
        "```\n",
        "5. SyntaxError (Error de sintaxis)\n",
        "\n",
        "Aparece cuando el código no está bien escrito, por ejemplo, falta un punto y coma o un paréntesis.\n",
        "\n",
        "ERROR:\n",
        "\n",
        "```\n",
        "public class Main {\n",
        "    public static void main(String[] args) {\n",
        "        System.out.println(\"Hola\")  // falta punto y coma\n",
        "    }\n",
        "}\n",
        "```\n",
        "SOLUCION:\n",
        "\n",
        "```\n",
        "public class Main {\n",
        "    public static void main(String[] args) {\n",
        "        System.out.println(\"Hola\");  // corregido\n",
        "    }\n",
        "}\n",
        "```\n",
        "\n",
        "\n",
        "\n",
        "\n",
        "\n",
        "\n",
        "\n",
        "\n",
        "\n"
      ],
      "metadata": {
        "id": "28ydW_zkpDZp"
      }
    },
    {
      "cell_type": "markdown",
      "source": [
        "NullPointerException\n",
        "🔹 Causa: Tratas de usar un objeto que no fue inicializado (null)."
      ],
      "metadata": {
        "id": "t8utvH2VRMA_"
      }
    },
    {
      "cell_type": "code",
      "source": [
        "String nombre = null;\n",
        "System.out.println(nombre.length());\n"
      ],
      "metadata": {
        "id": "RURxQO8XRQk0"
      },
      "execution_count": null,
      "outputs": []
    },
    {
      "cell_type": "code",
      "source": [
        "String nombre = \"Ana\";\n",
        "if (nombre != null) {\n",
        "    System.out.println(nombre.length());\n",
        "}\n"
      ],
      "metadata": {
        "id": "1m28f8fARSjT"
      },
      "execution_count": null,
      "outputs": []
    },
    {
      "cell_type": "markdown",
      "source": [
        "\n",
        "ArrayIndexOutOfBoundsException\n",
        "🔹 Causa: Accedes a una posición fuera del rango de un arreglo."
      ],
      "metadata": {
        "id": "ksyWOrmdRWSc"
      }
    },
    {
      "cell_type": "code",
      "source": [
        "int[] numeros = {1, 2, 3};\n",
        "System.out.println(numeros[3]);\n"
      ],
      "metadata": {
        "id": "0EGQdXbQRXOU"
      },
      "execution_count": null,
      "outputs": []
    },
    {
      "cell_type": "markdown",
      "source": [
        "Asegúrate de usar índices válidos."
      ],
      "metadata": {
        "id": "h0-pG6UnRmcM"
      }
    },
    {
      "cell_type": "code",
      "source": [
        "System.out.println(numeros[2]);\n"
      ],
      "metadata": {
        "id": "39hod4gkRlEb"
      },
      "execution_count": null,
      "outputs": []
    },
    {
      "cell_type": "markdown",
      "source": [
        "#ClassNotFoundException\n",
        "Causa: El programa no encuentra la clase que intentas cargar."
      ],
      "metadata": {
        "id": "M6mnZEFxRsHb"
      }
    },
    {
      "cell_type": "code",
      "source": [
        "Class.forName(\"MiClaseInexistente\");\n"
      ],
      "metadata": {
        "id": "5_wGXIfnRwvM"
      },
      "execution_count": null,
      "outputs": []
    },
    {
      "cell_type": "markdown",
      "source": [
        "Verifica que la clase exista y esté bien importada."
      ],
      "metadata": {
        "id": "J-cLDAypRxxH"
      }
    },
    {
      "cell_type": "code",
      "source": [
        "int numero = \"Hola\";\n"
      ],
      "metadata": {
        "id": "dRDJeON5Ry_4"
      },
      "execution_count": null,
      "outputs": []
    }
  ]
}