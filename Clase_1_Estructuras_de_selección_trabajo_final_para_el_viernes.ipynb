{
  "nbformat": 4,
  "nbformat_minor": 0,
  "metadata": {
    "colab": {
      "provenance": [],
      "authorship_tag": "ABX9TyNS+A1vj0EA7oJRLZAcTtCH",
      "include_colab_link": true
    },
    "kernelspec": {
      "name": "python3",
      "display_name": "Python 3"
    },
    "language_info": {
      "name": "python"
    }
  },
  "cells": [
    {
      "cell_type": "markdown",
      "metadata": {
        "id": "view-in-github",
        "colab_type": "text"
      },
      "source": [
        "<a href=\"https://colab.research.google.com/github/maoproYT/PROGCOM-A/blob/main/Clase_1_Estructuras_de_selecci%C3%B3n_trabajo_final_para_el_viernes.ipynb\" target=\"_parent\"><img src=\"https://colab.research.google.com/assets/colab-badge.svg\" alt=\"Open In Colab\"/></a>"
      ]
    },
    {
      "cell_type": "markdown",
      "source": [
        "#EJERCICIO1\n",
        "1\tEscribe un programa que reciba un número e indique si es positivo."
      ],
      "metadata": {
        "id": "wczgSizQHaB1"
      }
    },
    {
      "cell_type": "code",
      "source": [
        "numero = int(input(\"digite un numero porfa\"))\n",
        "if numero >0:\n",
        "  print(f\"{numero} es positivo\")\n",
        "else:\n",
        "    print(f\"{numero} no es positivo\")"
      ],
      "metadata": {
        "colab": {
          "base_uri": "https://localhost:8080/"
        },
        "id": "abP9oQBAHdnl",
        "outputId": "7a3b2967-57ca-4539-a887-75b68e92d6ef"
      },
      "execution_count": 1,
      "outputs": [
        {
          "output_type": "stream",
          "name": "stdout",
          "text": [
            "digite un numero porfa0\n",
            "0 no es positivo\n"
          ]
        }
      ]
    },
    {
      "cell_type": "code",
      "source": [
        "numero = int(input(\"digite un numero porfa\"))\n",
        "if numero >0:\n",
        "  print(f\"{numero} es positivo\")\n",
        "elif numero ==0:\n",
        "  print(f\"{numero} no esta entre los positivos ni negativos\")\n",
        "else:\n",
        "    print(f\"{numero} no es positivo\")"
      ],
      "metadata": {
        "colab": {
          "base_uri": "https://localhost:8080/"
        },
        "id": "MlsGTVMJHd9U",
        "outputId": "9fc12abc-fcea-4b24-ed71-5b8a38b8cff9"
      },
      "execution_count": 20,
      "outputs": [
        {
          "output_type": "stream",
          "name": "stdout",
          "text": [
            "digite un numero porfa10\n",
            "10 es positivo\n"
          ]
        }
      ]
    },
    {
      "cell_type": "code",
      "source": [
        "print(f\"{(numero := int(input('Digite un número porfa: ')))} es positivo\" if numero > 0 else (f\"{numero} no esta entre los positivos ni negativos\" if numero == 0 else f\"{numero} no es positivo\"))\n"
      ],
      "metadata": {
        "colab": {
          "base_uri": "https://localhost:8080/"
        },
        "id": "k33yk_4pHeJc",
        "outputId": "24489058-903b-4cc1-db27-869d5b52dcb0"
      },
      "execution_count": 21,
      "outputs": [
        {
          "output_type": "stream",
          "name": "stdout",
          "text": [
            "Digite un número porfa: 10\n",
            "10 es positivo\n"
          ]
        }
      ]
    },
    {
      "cell_type": "markdown",
      "source": [
        "#EJERCICIO 2\n",
        "2\tEscribe un programa que reciba una edad y determine si la persona es mayor de edad."
      ],
      "metadata": {
        "id": "1ciNmCQcI3_P"
      }
    },
    {
      "cell_type": "code",
      "source": [
        "n=int(input(\" ingresa una edad\"))\n",
        "if n>=18:\n",
        "  print(\" es mayor de edad\")\n",
        "else:\n",
        "  n<=17\n",
        "  print(\" es menor de edad\")"
      ],
      "metadata": {
        "colab": {
          "base_uri": "https://localhost:8080/"
        },
        "id": "AiT8bCsEI7wO",
        "outputId": "4a54fb03-9465-4f92-dd94-d2863b853b59"
      },
      "execution_count": 22,
      "outputs": [
        {
          "output_type": "stream",
          "name": "stdout",
          "text": [
            " ingresa una edad19\n",
            " es mayor de edad\n"
          ]
        }
      ]
    },
    {
      "cell_type": "code",
      "source": [
        "n=int(input(\" ingresa una edad\"))\n",
        "if n>=18:\n",
        "  print(f\"{n} es mayor de edad\")\n",
        "elif n<=17 and n>0:\n",
        "  print(f\"{n} NO es mayor de edad\")\n",
        "else:\n",
        "  print(f\"{n}no ha nacido\")"
      ],
      "metadata": {
        "colab": {
          "base_uri": "https://localhost:8080/"
        },
        "id": "JBF-U8BTI-6H",
        "outputId": "7c1340e6-1d97-47d1-c92e-0a58441f1946"
      },
      "execution_count": 23,
      "outputs": [
        {
          "output_type": "stream",
          "name": "stdout",
          "text": [
            " ingresa una edad-1\n",
            "-1no existe\n"
          ]
        }
      ]
    },
    {
      "cell_type": "code",
      "source": [
        "print(f\"{(n := int(input('Ingrese la edad: ')))} es mayor de edad\" if n >= 18 else f\"{n} NO es mayor de edad\")\n"
      ],
      "metadata": {
        "colab": {
          "base_uri": "https://localhost:8080/"
        },
        "id": "9dAGRBU_JO5P",
        "outputId": "70ca372a-d725-4b12-f717-179a7cf47a46"
      },
      "execution_count": 11,
      "outputs": [
        {
          "output_type": "stream",
          "name": "stdout",
          "text": [
            "10 NO es mayor de edad\n"
          ]
        }
      ]
    },
    {
      "cell_type": "markdown",
      "source": [
        "#EJERCICIO 3\n",
        "##Escribe un programa que reciba dos números e imprima el mayor."
      ],
      "metadata": {
        "id": "bxshctgNJan-"
      }
    },
    {
      "cell_type": "code",
      "source": [
        "n1=int(input(\"ingresa un numero\"))\n",
        "n2=int(input(\"ingresa otro numero\"))\n",
        "if n1>n2:\n",
        "  print(n1, \"es mayor\")\n",
        "else:\n",
        "  print(n2, \"es mayor\")"
      ],
      "metadata": {
        "colab": {
          "base_uri": "https://localhost:8080/"
        },
        "id": "WWUsnPVyJgdG",
        "outputId": "bc552857-2593-46c8-eaec-7374753a8a28"
      },
      "execution_count": 12,
      "outputs": [
        {
          "output_type": "stream",
          "name": "stdout",
          "text": [
            "ingresa un numero10\n",
            "ingresa otro numero10\n",
            "10 es mayor\n"
          ]
        }
      ]
    },
    {
      "cell_type": "code",
      "source": [
        "n1=int(input(\"ingresa un numero\"))\n",
        "n2=int(input(\"ingresa otro numero\"))\n",
        "if n1>n2:\n",
        "  print(n1, \"es mayor\")\n",
        "elif n1 == n2:\n",
        "  print(f\"{n1,n2}son iguales\")\n",
        "else:\n",
        "  print(n2, \"es mayor\")"
      ],
      "metadata": {
        "colab": {
          "base_uri": "https://localhost:8080/"
        },
        "id": "4PjPZfYOJoUI",
        "outputId": "48a20a99-f437-42d0-a53b-b15bfc8dbb53"
      },
      "execution_count": 14,
      "outputs": [
        {
          "output_type": "stream",
          "name": "stdout",
          "text": [
            "ingresa un numero5\n",
            "ingresa otro numero10\n",
            "10 es mayor\n"
          ]
        }
      ]
    },
    {
      "cell_type": "code",
      "source": [
        "print(f\"{n} es mayor\") if n1>n2 else print(f\"{n} es mayor \")"
      ],
      "metadata": {
        "colab": {
          "base_uri": "https://localhost:8080/"
        },
        "id": "2G9wayGXJ0IQ",
        "outputId": "806a0e57-702c-46c7-9abb-6a36faab44ee"
      },
      "execution_count": 15,
      "outputs": [
        {
          "output_type": "stream",
          "name": "stdout",
          "text": [
            "10 es mayor \n"
          ]
        }
      ]
    },
    {
      "cell_type": "markdown",
      "source": [
        "#EJERCICIO 4\n",
        "##4\tEscribe un programa que reciba una calificación (0-100) e indique si es Aprobado (>=60) o Reprobado.\n"
      ],
      "metadata": {
        "id": "WQngHBmNJ-7W"
      }
    },
    {
      "cell_type": "code",
      "source": [
        "n=int(input(\"Ingrese su calificacion\"))\n",
        "if n>=60 and n<=100:\n",
        "  print (f\"{n} aprobo\")\n",
        "else:\n",
        "  print (n, \"No aprobo\")\n",
        "\n",
        "\n"
      ],
      "metadata": {
        "id": "ps5CR_5nKFdm"
      },
      "execution_count": null,
      "outputs": []
    },
    {
      "cell_type": "code",
      "source": [
        "n=int(input(\"Ingrese su calificacion\"))\n",
        "if n>=60 and n<=100:\n",
        "    print (f\"{n} aprobo\")\n",
        "elif n<60 and n>=0:\n",
        "    print (n, \"No aprobo\")\n",
        "else:\n",
        "  print(f\"{n} no esta en la escala \")\n",
        ""
      ],
      "metadata": {
        "colab": {
          "base_uri": "https://localhost:8080/"
        },
        "id": "I3ZRJX0rKI-W",
        "outputId": "a38d406c-cec6-4e36-8056-bf703adfa348"
      },
      "execution_count": 17,
      "outputs": [
        {
          "output_type": "stream",
          "name": "stdout",
          "text": [
            "Ingrese su calificacion101\n",
            "101 no esta en la escala \n"
          ]
        }
      ]
    },
    {
      "cell_type": "code",
      "source": [
        "n=int(input(\"Ingrese su calificacion\"))\n",
        "print (f\"(n) Aprobo\") if n>=60 and n<=100 else print(f\"(n) No aprobo\")"
      ],
      "metadata": {
        "id": "0OPvJZj6KKnH"
      },
      "execution_count": null,
      "outputs": []
    },
    {
      "cell_type": "markdown",
      "source": [
        "#EJERCICIO 5\n",
        "##Escribe un programa que determine si un número es par o impar."
      ],
      "metadata": {
        "id": "2GYhSIIQKl5v"
      }
    },
    {
      "cell_type": "code",
      "source": [
        "a=int(input(\"Ingrese un número \"))\n",
        "if a==0:\n",
        " print (a, \"es 0\")\n",
        "elif a%2==0:\n",
        " print (f\"{a} es un número par\")\n",
        "else:\n",
        " print (a, \"es un número impar\")"
      ],
      "metadata": {
        "colab": {
          "base_uri": "https://localhost:8080/"
        },
        "id": "XqaW6rgFKq44",
        "outputId": "cbfb7c94-748f-42eb-d296-c9bca6bc0df7"
      },
      "execution_count": 18,
      "outputs": [
        {
          "output_type": "stream",
          "name": "stdout",
          "text": [
            "Ingrese un número 10\n",
            "10 es un número par\n"
          ]
        }
      ]
    },
    {
      "cell_type": "code",
      "source": [
        "a=int(input(\"Ingrese un número\"))\n",
        "if a%2==0:\n",
        " print (f\"{a} es un número par\")\n",
        "else:\n",
        " print (a, \"es un número impar\")"
      ],
      "metadata": {
        "colab": {
          "base_uri": "https://localhost:8080/"
        },
        "id": "7O7EIl3ZK3S4",
        "outputId": "e2cb67ac-d1e3-4439-c104-065b573dcd5d"
      },
      "execution_count": 19,
      "outputs": [
        {
          "output_type": "stream",
          "name": "stdout",
          "text": [
            "Ingrese un número10\n",
            "10 es un número par\n"
          ]
        }
      ]
    },
    {
      "cell_type": "code",
      "source": [
        "a=int(input(\"Ingrese un número: \")); print(f\"{a} es un número par\" if a%2==0 else f\"{a} es un número impar\")\n"
      ],
      "metadata": {
        "colab": {
          "base_uri": "https://localhost:8080/"
        },
        "id": "4Av3wME_LL0_",
        "outputId": "be50ab8c-8839-4872-badf-fedea87e0ffb"
      },
      "execution_count": 24,
      "outputs": [
        {
          "output_type": "stream",
          "name": "stdout",
          "text": [
            "Ingrese un número: 10\n",
            "10 es un número par\n"
          ]
        }
      ]
    },
    {
      "cell_type": "markdown",
      "source": [
        "#EJERCICIO 6\n",
        "##6\tEscribe un programa que reciba tres números e imprima el mayor de los tres."
      ],
      "metadata": {
        "id": "Ym4N89DLLSjn"
      }
    },
    {
      "cell_type": "code",
      "source": [
        "n=int(input(\"Ingrese un número: \"))\n",
        "m=int(input(\"Ingrese un número: \"))\n",
        "p=int(input(\"Ingrese un número: \"))\n",
        "\n",
        "if n>m and n>p:\n",
        "    print(f\"{n} es mayor\")\n",
        "else:\n",
        "    if m > n and m > p:\n",
        "        print(f\"{m} es el mayor\")\n",
        "    else:\n",
        "        print(f\"{p} es el mayor\")\n"
      ],
      "metadata": {
        "id": "c9X7YQbyLYHP"
      },
      "execution_count": null,
      "outputs": []
    },
    {
      "cell_type": "code",
      "source": [
        "n=int(input(\"Ingrese un número \"))\n",
        "m=int(input(\"Ingrese un número \"))\n",
        "p=int(input(\"Ingrese un número \"))\n",
        "if n>m and n>p:\n",
        " print (f\"{n} es mayor\")\n",
        "elif m>n and m>p:\n",
        "  print(f\"{m} es mayor\")\n",
        "else:\n",
        " print(p, \"es mayor\")"
      ],
      "metadata": {
        "id": "6UETftMkLbsK"
      },
      "execution_count": null,
      "outputs": []
    },
    {
      "cell_type": "code",
      "source": [
        "n=int(input()); m=int(input()); p=int(input()); print(f\"{n} es el mayor\" if n>m and n>p else (f\"{m} es el mayor\" if m>n and m>p else f\"{p} es el mayor\"))\n"
      ],
      "metadata": {
        "colab": {
          "base_uri": "https://localhost:8080/"
        },
        "id": "3g9fYvoTLmV4",
        "outputId": "78ebaba6-03ef-48bf-d5b8-020e42754f0c"
      },
      "execution_count": 25,
      "outputs": [
        {
          "output_type": "stream",
          "name": "stdout",
          "text": [
            "10\n",
            "11\n",
            "12\n",
            "12 es mayor\n"
          ]
        }
      ]
    },
    {
      "cell_type": "markdown",
      "source": [
        "#EJERCICIO 7\n",
        "##7\tEscribe un programa que reciba un año e indique si es bisiesto."
      ],
      "metadata": {
        "id": "JE7DxxqdLtMX"
      }
    },
    {
      "cell_type": "code",
      "source": [
        "print(\"calcula un año bisiesto\")\n",
        "a = int(input(\"digite un año al azar\"))\n",
        "if a % 4 == 0 and a % 400 == 0:\n",
        "  print(\"es bisiesto\")\n",
        "else:\n",
        "  print(\"no es\")"
      ],
      "metadata": {
        "id": "cQO31_njNWyx"
      },
      "execution_count": null,
      "outputs": []
    },
    {
      "cell_type": "code",
      "source": [
        "print(\"calcula un año bisiesto\")\n",
        "a = int(input(\"digite un año al azar: \"))\n",
        "if a % 400 == 0:\n",
        "    print(\"es bisiesto\")\n",
        "elif a % 4 == 0 and a % 100 != 0:\n",
        "    print(\"también es bisiesto\")\n",
        "else:\n",
        "    print(\"no es bisiesto, escriba otra cosa\")\n"
      ],
      "metadata": {
        "id": "mxPRhYlyLwpg"
      },
      "execution_count": null,
      "outputs": []
    },
    {
      "cell_type": "code",
      "source": [
        "a=int(input(\"Digite un año: \")); print(\"es bisiesto\" if a%400==0 else (\"es bisiesto\" if a%4==0 and a%100!=0 else \"no es\"))\n"
      ],
      "metadata": {
        "id": "6hnAexklNI2I"
      },
      "execution_count": null,
      "outputs": []
    },
    {
      "cell_type": "markdown",
      "source": [
        "#EJERCICIO 8\n",
        "##8\tEscribe un programa que reciba una contraseña e indique si cumple con las siguientes reglas: más de 8 caracteres, contiene al menos un número y una letra mayúscula."
      ],
      "metadata": {
        "id": "BUG00s3OLx8Q"
      }
    },
    {
      "cell_type": "code",
      "source": [
        "contraseña_mauro = input(\"Digita la contraseña de al menos 8 caracteres: \")\n",
        "\n",
        "tiene_longitud = len(contraseña_mauro) >= 8\n",
        "tiene_numero = any(caracter.isdigit() for caracter in contraseña_mauro)\n",
        "tiene_mayuscula = any(caracter.isupper() for caracter in contraseña_mauro)\n",
        "\n",
        "if tiene_longitud and tiene_numero and tiene_mayuscula:\n",
        "    print(f\"{contraseña_mauro} es válida\")\n",
        "else:\n",
        "    print(f\"{contraseña_mauro} no es válida\")"
      ],
      "metadata": {
        "id": "pMWXnWrbL2Ro"
      },
      "execution_count": null,
      "outputs": []
    },
    {
      "cell_type": "code",
      "source": [
        "contraseña_mauro = input(\"Digita la contraseña de al menos 8 caracteres: \")\n",
        "\n",
        "tiene_longitud = len(contraseña_mauro) >= 8\n",
        "tiene_numero = any(caracter.isdigit() for caracter in contraseña_mauro)\n",
        "tiene_mayuscula = any(caracter.isupper() for caracter in contraseña_mauro)\n",
        "\n",
        "if tiene_longitud and tiene_numero and tiene_mayuscula:\n",
        "    print(f\"{contraseña_mauro} es válida\")\n",
        "elif tiene_longitud or tiene_numero or tiene_mayuscula:\n",
        "    print(f\"{contraseña_mauro} le falta un elemento\")\n",
        "else:\n",
        "    print(f\"{contraseña_mauro} no es válida\")"
      ],
      "metadata": {
        "id": "JWIJbJJ5L5CX"
      },
      "execution_count": null,
      "outputs": []
    },
    {
      "cell_type": "code",
      "source": [
        "print((contraseña_mauro := input(\"Digita la contraseña de al menos 8 caracteres: \")) + (\" es válida\" if len(contraseña_mauro) >= 8 and any(c.isdigit() for c in contraseña_mauro) and any(c.isupper() for c in contraseña_mauro) else \" no es válida\"))\n"
      ],
      "metadata": {
        "colab": {
          "base_uri": "https://localhost:8080/"
        },
        "id": "gaFM5ZjVL-bR",
        "outputId": "6bf8eb37-bd45-48c1-d09e-4b812f6f824b"
      },
      "execution_count": 26,
      "outputs": [
        {
          "output_type": "stream",
          "name": "stdout",
          "text": [
            "Digita la contraseña de al menos 8 caracteres: 19384ehhhH\n",
            "19384ehhhH es válida\n"
          ]
        }
      ]
    },
    {
      "cell_type": "markdown",
      "source": [
        "#Ejercicio 9\n",
        "##9\tEscribe un programa que lea un número e imprima “Fizz” si es divisible por 3, “Buzz” si es divisible por 5 y “FizzBuzz” si es divisible por ambos."
      ],
      "metadata": {
        "id": "xBUWw4NMMCaI"
      }
    },
    {
      "cell_type": "code",
      "source": [
        "numero = int(input(\"digita un numero y te cuento un secreto :\"))\n",
        "\n",
        "if numero % 3 == 0 and numero % 5 == 0:\n",
        "  print(\"el numero es divisible en 5 y 3 :0\")\n",
        "else:\n",
        "  if numero  % 3 == 0:\n",
        "    print(\"es divisible solamente en 3\")\n",
        "  else:\n",
        "    if numero % 5 == 0:\n",
        "     print(\"es divisible en 5 solamente\")\n",
        "    else:\n",
        "      print(\"no es divisible en 5 o 3\")\n",
        ""
      ],
      "metadata": {
        "id": "KjWkKnpOMHAv"
      },
      "execution_count": null,
      "outputs": []
    },
    {
      "cell_type": "code",
      "source": [
        "numero = int(input(\"Digita un número y te cuento un secreto: \"))\n",
        "\n",
        "if numero % 3 == 0 and numero % 5 == 0:\n",
        "    print(\"El número es divisible entre 5 y 3 :0\")\n",
        "elif numero % 3 == 0:\n",
        "    print(\"Es divisible solamente entre 3\")\n",
        "elif numero % 5 == 0:\n",
        "    print(\"Es divisible solamente entre 5\")\n",
        "else:\n",
        "    print(\"No es divisible entre 5 o 3\")"
      ],
      "metadata": {
        "id": "ICOujV2xMJ0o"
      },
      "execution_count": null,
      "outputs": []
    },
    {
      "cell_type": "code",
      "source": [
        "print((lambda n: \"el numero es divisible en 5 y 3 :0\" if n % 3 == 0 and n % 5 == 0 else \"es divisible solamente en 3\" if n % 3 == 0 else \"es divisible en 5 solamente\" if n % 5 == 0 else \"no es divisible en 5 o 3\")(int(input(\"digita un numero y te cuento un secreto :\"))))\n"
      ],
      "metadata": {
        "id": "E-wvJITGMNbX"
      },
      "execution_count": null,
      "outputs": []
    },
    {
      "cell_type": "markdown",
      "source": [
        "#EJERCICIO 10\n",
        "##10\tEscribe un programa que simule un cajero automático: recibe el monto a retirar e imprime si la operación es posible en base al saldo disponible."
      ],
      "metadata": {
        "id": "PXwVNf16MO2Q"
      }
    },
    {
      "cell_type": "code",
      "source": [
        "a = float(input(\"digite la cantidad de dinero que tiene\"))\n",
        "saldo = a\n",
        "retiro = float(input(\"Ingrese el monto a retirar: \"))\n",
        "\n",
        "if retiro <= saldo:\n",
        "    print(\"Retiro exitoso. Su nuevo saldo es:\", saldo - retiro)\n",
        "else:\n",
        "    print(\"Fondos insuficientes. Saldo disponible:\", saldo)\n"
      ],
      "metadata": {
        "colab": {
          "base_uri": "https://localhost:8080/"
        },
        "id": "L7nBB5dGMZO4",
        "outputId": "705f91f3-936f-419f-cc3f-544e955b85b2"
      },
      "execution_count": 27,
      "outputs": [
        {
          "output_type": "stream",
          "name": "stdout",
          "text": [
            "digite la cantidad de dinero que tiene100\n",
            "Ingrese el monto a retirar: 99\n",
            "Retiro exitoso. Su nuevo saldo es: 1.0\n"
          ]
        }
      ]
    },
    {
      "cell_type": "code",
      "source": [
        "a = float(input(\"digite la cantidad de dinero que tiene\"))\n",
        "saldo = a\n",
        "retiro = float(input(\"Ingrese el monto a retirar: \"))\n",
        "\n",
        "if retiro < saldo:\n",
        "    print(\"Retiro exitoso. Su nuevo saldo es:\", saldo - retiro)\n",
        "elif retiro == saldo:\n",
        "  print(\"sacaste todo el dinero que tenías. Tu saldo disponible es\", saldo)\n",
        "else:\n",
        "    print(\"Fondos insuficientes. Saldo disponible:\", saldo)"
      ],
      "metadata": {
        "colab": {
          "base_uri": "https://localhost:8080/"
        },
        "id": "Y8ZhFO6YMlxw",
        "outputId": "2aeee546-e2ce-4d12-9b8e-416ccc535a75"
      },
      "execution_count": 28,
      "outputs": [
        {
          "output_type": "stream",
          "name": "stdout",
          "text": [
            "digite la cantidad de dinero que tiene100\n",
            "Ingrese el monto a retirar: 100\n",
            "sacaste todo el dinero que tenías. Tu saldo disponible es 100.0\n"
          ]
        }
      ]
    },
    {
      "cell_type": "code",
      "source": [
        "saldo=float(input(\"digite la cantidad de dinero que tiene: \")); retiro=float(input(\"Ingrese el monto a retirar: \")); print(f\"Retiro exitoso. Su nuevo saldo es: {saldo-retiro}\" if retiro<saldo else (f\"sacaste todo el dinero que tenías. Tu saldo disponible es {saldo}\" if retiro==saldo else f\"Fondos insuficientes. Saldo disponible: {saldo}\"))\n"
      ],
      "metadata": {
        "id": "xmYJOiyGM-d5"
      },
      "execution_count": null,
      "outputs": []
    }
  ]
}