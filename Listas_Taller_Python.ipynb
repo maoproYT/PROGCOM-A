{
  "nbformat": 4,
  "nbformat_minor": 0,
  "metadata": {
    "colab": {
      "provenance": [],
      "authorship_tag": "ABX9TyPhx8/gCuqcndL7Lk33e57B",
      "include_colab_link": true
    },
    "kernelspec": {
      "name": "python3",
      "display_name": "Python 3"
    },
    "language_info": {
      "name": "python"
    }
  },
  "cells": [
    {
      "cell_type": "markdown",
      "metadata": {
        "id": "view-in-github",
        "colab_type": "text"
      },
      "source": [
        "<a href=\"https://colab.research.google.com/github/maoproYT/PROGCOM-A/blob/main/Listas_Taller_Python.ipynb\" target=\"_parent\"><img src=\"https://colab.research.google.com/assets/colab-badge.svg\" alt=\"Open In Colab\"/></a>"
      ]
    },
    {
      "cell_type": "markdown",
      "source": [
        "Crear una lista con los cuadrados de los números del 1 al 10.\n",
        "Obtener una lista con los números pares del 0 al 20.\n",
        "Crear una lista con el doble de cada número del 1 al 5.\n",
        "De la palabra \"programacion\", obtener solo las vocales.\n",
        "Dada la lista [\"python\", \"java\", \"c++\"], obtener otra lista con las palabras en mayúsculas.\n",
        "Crear una lista con \"par\" o \"impar\" para los números del 1 al 10.\n",
        "Generar una lista de tuplas con el número y su cuadrado del 1 al 5.\n",
        "Crear una lista con todas las combinaciones de letras en [\"a\",\"b\"] y números en [1,2,3].\n",
        "De la lista [\"sol\", \"estrella\", \"mar\", \"planeta\"], obtener solo las palabras con más de 4 letras.\n",
        "Clasificar la temperatura de una lista. Si la temperatura es menor a 26, el clima es \"frío\". Si está entre 26 a 29, es \"templado\". Si es mayor a 29, el clima es \"caliente\""
      ],
      "metadata": {
        "id": "8tF5MEAFIolz"
      }
    },
    {
      "cell_type": "markdown",
      "source": [
        "#Ejercicio1"
      ],
      "metadata": {
        "id": "jneY9kmoKZA-"
      }
    },
    {
      "cell_type": "code",
      "execution_count": 1,
      "metadata": {
        "colab": {
          "base_uri": "https://localhost:8080/"
        },
        "id": "Hs-3Mi_UIjnN",
        "outputId": "89cdab00-6012-4558-d486-2fc5cd40af44"
      },
      "outputs": [
        {
          "output_type": "stream",
          "name": "stdout",
          "text": [
            "[1, 4, 9, 16, 25, 36, 49, 64, 81, 100]\n"
          ]
        }
      ],
      "source": [
        "lista = []\n",
        "for numeros in range(10):\n",
        "  lista.append(numeros+1)\n",
        "lista2 = [numero**2 for numero in range(1, 11)]\n",
        "print(lista2)"
      ]
    },
    {
      "cell_type": "markdown",
      "source": [
        "#Ejercicio2"
      ],
      "metadata": {
        "id": "VvB1rdtAKlSd"
      }
    },
    {
      "cell_type": "code",
      "source": [
        "lista = []\n",
        "for numeros in range(20):\n",
        "  lista.append(numeros+1)\n",
        "lista2 = [numero for numero in lista if numero % 2==0]\n",
        "print(lista2)"
      ],
      "metadata": {
        "colab": {
          "base_uri": "https://localhost:8080/"
        },
        "id": "uv14WEfaKnAS",
        "outputId": "32edda55-0277-4f51-e6ca-28a2b020a3c3"
      },
      "execution_count": 2,
      "outputs": [
        {
          "output_type": "stream",
          "name": "stdout",
          "text": [
            "[2, 4, 6, 8, 10, 12, 14, 16, 18, 20]\n"
          ]
        }
      ]
    },
    {
      "cell_type": "markdown",
      "source": [
        "#Ejercicio3"
      ],
      "metadata": {
        "id": "nunycT12LjHc"
      }
    },
    {
      "cell_type": "code",
      "source": [
        "lista = []\n",
        "for numeros in range(5):\n",
        "  lista.append(numeros+1)\n",
        "lista2 = [numero*2 for numero in lista]\n",
        "print(lista2)"
      ],
      "metadata": {
        "colab": {
          "base_uri": "https://localhost:8080/"
        },
        "id": "UMG_Kaq5LkrL",
        "outputId": "08ade160-ed9d-4579-c3f4-bd203ce01ce2"
      },
      "execution_count": 10,
      "outputs": [
        {
          "output_type": "stream",
          "name": "stdout",
          "text": [
            "[2, 4, 6, 8, 10]\n"
          ]
        }
      ]
    },
    {
      "cell_type": "markdown",
      "source": [
        "#Ejercicio4"
      ],
      "metadata": {
        "id": "Yd0FdJyOMEMo"
      }
    },
    {
      "cell_type": "code",
      "source": [
        "nombres = [\"programación\"]\n",
        "gramática = [letra for letra in nombres[0] if letra in \"aeiouáéíóú\"]\n",
        "print(gramática)\n"
      ],
      "metadata": {
        "colab": {
          "base_uri": "https://localhost:8080/"
        },
        "id": "5rz_ygCzMGG4",
        "outputId": "3e0c8ebc-beac-4713-b822-4cc15159498a"
      },
      "execution_count": 4,
      "outputs": [
        {
          "output_type": "stream",
          "name": "stdout",
          "text": [
            "['o', 'a', 'a', 'i', 'ó']\n"
          ]
        }
      ]
    },
    {
      "cell_type": "markdown",
      "source": [
        "#Ejercicio5"
      ],
      "metadata": {
        "id": "nqJZv1THNhCb"
      }
    },
    {
      "cell_type": "code",
      "source": [
        "nombres = [\"Python\", \"Java\", \"c++\"]\n",
        "lista_nueva=[mayúscula.upper() for mayúscula in nombres]\n",
        "print(lista_nueva)"
      ],
      "metadata": {
        "colab": {
          "base_uri": "https://localhost:8080/"
        },
        "id": "8MCseBU5N-PB",
        "outputId": "e6e152bf-0c9d-4662-9c7d-dc4acc49ff61"
      },
      "execution_count": 5,
      "outputs": [
        {
          "output_type": "stream",
          "name": "stdout",
          "text": [
            "['PYTHON', 'JAVA', 'C++']\n"
          ]
        }
      ]
    },
    {
      "cell_type": "markdown",
      "source": [
        "#Ejercicio6"
      ],
      "metadata": {
        "id": "krfXimvPOyss"
      }
    },
    {
      "cell_type": "code",
      "source": [
        "lista_inicial = []\n",
        "for número in range(10):\n",
        "    lista_inicial.append(número + 1)\n",
        "lista_de_números = [(\"par\", variable) if variable % 2 == 0 else (\"impar\", variable) for variable in lista_inicial]\n",
        "print(lista_de_números)\n",
        "\n"
      ],
      "metadata": {
        "colab": {
          "base_uri": "https://localhost:8080/"
        },
        "id": "koXWH6BkO0tS",
        "outputId": "b83eb4f0-1d02-49c7-c4d1-18c1c6248c6b"
      },
      "execution_count": 6,
      "outputs": [
        {
          "output_type": "stream",
          "name": "stdout",
          "text": [
            "[('impar', 1), ('par', 2), ('impar', 3), ('par', 4), ('impar', 5), ('par', 6), ('impar', 7), ('par', 8), ('impar', 9), ('par', 10)]\n"
          ]
        }
      ]
    },
    {
      "cell_type": "markdown",
      "source": [
        "#EJERCICIO7"
      ],
      "metadata": {
        "id": "3PYC9ryVP52z"
      }
    },
    {
      "cell_type": "code",
      "source": [
        "lista = []\n",
        "for numeros in range(5):\n",
        "  lista.append(numeros+1)\n",
        "lista = [(numero, numero**2) for numero in range(1, 6)]\n",
        "print(lista)\n"
      ],
      "metadata": {
        "id": "lpQ9hcl_P5WN",
        "colab": {
          "base_uri": "https://localhost:8080/"
        },
        "outputId": "5955fb76-aa8a-4c02-910b-351ea1b3cc92"
      },
      "execution_count": 12,
      "outputs": [
        {
          "output_type": "stream",
          "name": "stdout",
          "text": [
            "[(1, 1), (2, 4), (3, 9), (4, 16), (5, 25)]\n"
          ]
        }
      ]
    },
    {
      "cell_type": "markdown",
      "source": [
        "#Ejercicio8"
      ],
      "metadata": {
        "id": "MuyERdx1_2Z_"
      }
    },
    {
      "cell_type": "code",
      "source": [
        "letras = []\n",
        "numeros = []\n",
        "for letra in [\"a\", \"b\"]:\n",
        "    letras.append(letra)\n",
        "for numerito in [1, 2, 3]:\n",
        "    numeros.append(numerito)\n",
        "combinaciones = [(letra, numero) for letra in letras for numero in numeros]\n",
        "Otro_Caso = [(numero, letra) for numero in numeros for letra in letras]\n",
        "print(combinaciones, Otro_Caso)\n",
        "\n"
      ],
      "metadata": {
        "colab": {
          "base_uri": "https://localhost:8080/"
        },
        "id": "utIXc8vS_6iH",
        "outputId": "b5b8bf25-8551-4c42-8236-c0a185c050f7"
      },
      "execution_count": 27,
      "outputs": [
        {
          "output_type": "stream",
          "name": "stdout",
          "text": [
            "[('a', 1), ('a', 2), ('a', 3), ('b', 1), ('b', 2), ('b', 3)] [(1, 'a'), (1, 'b'), (2, 'a'), (2, 'b'), (3, 'a'), (3, 'b')]\n"
          ]
        }
      ]
    },
    {
      "cell_type": "markdown",
      "source": [
        "#Ejercicio9"
      ],
      "metadata": {
        "id": "v3R2Hwc__4hZ"
      }
    },
    {
      "cell_type": "code",
      "source": [
        "palabras = []\n",
        "for animales in [\"sol\", \"estrella\", \"mar\", \"planeta\"]:\n",
        "    palabras.append(animales)\n",
        "palabras_filtradas = [palabra for palabra in palabras if len(palabra) > 4]\n",
        "print(palabras_filtradas)"
      ],
      "metadata": {
        "colab": {
          "base_uri": "https://localhost:8080/"
        },
        "id": "9KRK4uPK_6QF",
        "outputId": "6fa43589-ed9f-4120-cb29-2e0c274342a8"
      },
      "execution_count": 30,
      "outputs": [
        {
          "output_type": "stream",
          "name": "stdout",
          "text": [
            "['estrella', 'planeta']\n"
          ]
        }
      ]
    },
    {
      "cell_type": "markdown",
      "source": [
        "#Ejercicio 10"
      ],
      "metadata": {
        "id": "hazDDLOqI6NQ"
      }
    },
    {
      "cell_type": "code",
      "source": [
        "list_inicial= []\n",
        "for puntos in range(10):\n",
        "  b = float(input(f\"Digite la temperatura {puntos+1}: \"))\n",
        "  list_inicial.append(b)\n",
        "a2 = [(temp, \"caliente\") if temp > 29 else (temp, \"templado\") if temp > 23 and temp <29 else (temp, \"frio\") for temp in list_inicial]\n",
        "print(a2)"
      ],
      "metadata": {
        "id": "OPiEt7fVI8V7"
      },
      "execution_count": null,
      "outputs": []
    },
    {
      "cell_type": "markdown",
      "source": [
        "#Ahora haré lo mismo pero para Java\n"
      ],
      "metadata": {
        "id": "3qLLRQ6bDVTN"
      }
    }
  ]
}