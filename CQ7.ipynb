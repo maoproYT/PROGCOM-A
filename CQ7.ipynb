{
  "cells": [
    {
      "cell_type": "markdown",
      "metadata": {
        "id": "view-in-github",
        "colab_type": "text"
      },
      "source": [
        "<a href=\"https://colab.research.google.com/github/maoproYT/PROGCOM-A/blob/main/CQ7.ipynb\" target=\"_parent\"><img src=\"https://colab.research.google.com/assets/colab-badge.svg\" alt=\"Open In Colab\"/></a>"
      ]
    },
    {
      "cell_type": "markdown",
      "metadata": {
        "id": "jkcvWBiv1hI5"
      },
      "source": [
        "#CQ7\n",
        "##Repositorio de Palabras Reservadas en Python Mauricio Herrera"
      ]
    },
    {
      "cell_type": "markdown",
      "metadata": {
        "id": "wxw4ChJN1-I6"
      },
      "source": [
        "##False / True\n",
        "•Son los valores booleanos: falso y verdadero."
      ]
    },
    {
      "cell_type": "code",
      "execution_count": null,
      "metadata": {
        "id": "n-epcY1Z1daE"
      },
      "outputs": [],
      "source": [
        "print(True)\n",
        "print(False)"
      ]
    },
    {
      "cell_type": "markdown",
      "metadata": {
        "id": "cAEnLEnG2Os0"
      },
      "source": [
        "##None\n",
        "•Representa nada o sin valor."
      ]
    },
    {
      "cell_type": "code",
      "execution_count": 1,
      "metadata": {
        "id": "HeOANVfb2PCB",
        "colab": {
          "base_uri": "https://localhost:8080/"
        },
        "outputId": "e04b8e0f-8aa8-4f08-9c6a-fc406759b430"
      },
      "outputs": [
        {
          "output_type": "stream",
          "name": "stdout",
          "text": [
            "None\n"
          ]
        }
      ],
      "source": [
        "x = None\n",
        "print(x)"
      ]
    },
    {
      "cell_type": "markdown",
      "metadata": {
        "id": "89jmrykq2gV8"
      },
      "source": [
        "## and / or / not\n",
        "•Son operadores lógicos:\n",
        "  - and → y\n",
        "  - or → o\n",
        "  - not → no"
      ]
    },
    {
      "cell_type": "code",
      "execution_count": 2,
      "metadata": {
        "id": "5ua3Bp9X2g13",
        "colab": {
          "base_uri": "https://localhost:8080/"
        },
        "outputId": "aabfc362-0999-408d-8eb3-cbf2a47d97e1"
      },
      "outputs": [
        {
          "output_type": "stream",
          "name": "stdout",
          "text": [
            "False\n",
            "True\n",
            "False\n"
          ]
        }
      ],
      "source": [
        "print(True and False)\n",
        "print(True or False)\n",
        "print(not True)"
      ]
    },
    {
      "cell_type": "markdown",
      "metadata": {
        "id": "_N0P06XE2gPO"
      },
      "source": [
        "##as\n",
        "- Sirve para ponerle un alias a algo importado."
      ]
    },
    {
      "cell_type": "code",
      "execution_count": 4,
      "metadata": {
        "id": "ompws3k12hKq",
        "colab": {
          "base_uri": "https://localhost:8080/"
        },
        "outputId": "a33c6b97-3aba-4327-d060-53b512511fbd"
      },
      "outputs": [
        {
          "output_type": "stream",
          "name": "stdout",
          "text": [
            "3.141592653589793\n"
          ]
        }
      ],
      "source": [
        "import math as m\n",
        "print(m.pi)"
      ]
    },
    {
      "cell_type": "markdown",
      "metadata": {
        "id": "GDxw7Yrh2gHU"
      },
      "source": [
        "##assert\n",
        "- Sirve para comprobar que algo es verdadero; si no, da error."
      ]
    },
    {
      "cell_type": "code",
      "execution_count": 7,
      "metadata": {
        "id": "2qm83RKg2hjW"
      },
      "outputs": [],
      "source": [
        "x = 5\n",
        "assert x > 0\n"
      ]
    },
    {
      "cell_type": "markdown",
      "metadata": {
        "id": "tUkQMhU92gB7"
      },
      "source": [
        "##break / continue\n",
        "- break → corta un ciclo.\n",
        "- continue → salta a la siguiente vuelta."
      ]
    },
    {
      "cell_type": "code",
      "execution_count": null,
      "metadata": {
        "id": "J9XbvrBU2h9e"
      },
      "outputs": [],
      "source": [
        "for i in range(5):\n",
        "    if i == 3:\n",
        "        break\n",
        "    print(i)"
      ]
    },
    {
      "cell_type": "markdown",
      "metadata": {
        "id": "Q5CbhICP3USf"
      },
      "source": [
        "##class\n",
        "- Se usa para crear clases (plantillas de objetos)."
      ]
    },
    {
      "cell_type": "code",
      "execution_count": 8,
      "metadata": {
        "id": "ndDuUZ0E3Upu"
      },
      "outputs": [],
      "source": [
        "class Persona:\n",
        "    pass"
      ]
    },
    {
      "cell_type": "markdown",
      "metadata": {
        "id": "YXH3VhWv3UC1"
      },
      "source": [
        "##def / return\n",
        "- def → define una función.\n",
        "- return → devuelve un valor."
      ]
    },
    {
      "cell_type": "code",
      "execution_count": null,
      "metadata": {
        "id": "l5Q3mcDl3VSu"
      },
      "outputs": [],
      "source": [
        "def sumar(a, b):\n",
        "    return a+b\n",
        "print(sumar(2,3))"
      ]
    },
    {
      "cell_type": "markdown",
      "metadata": {
        "id": "zMJoSwXn3T9W"
      },
      "source": [
        "## del\n",
        "- Sirve para eliminar algo."
      ]
    },
    {
      "cell_type": "code",
      "execution_count": null,
      "metadata": {
        "id": "H9csMKGF3V4L"
      },
      "outputs": [],
      "source": [
        "x = 10\n",
        "del x"
      ]
    },
    {
      "cell_type": "markdown",
      "metadata": {
        "id": "kUflsB3c3T44"
      },
      "source": [
        "##if / elif / else\n",
        "- Estructuras para tomar decisiones."
      ]
    },
    {
      "cell_type": "code",
      "execution_count": 11,
      "metadata": {
        "id": "UdxcGCv03WTT",
        "colab": {
          "base_uri": "https://localhost:8080/"
        },
        "outputId": "5cb00e59-2115-49a6-f6e6-c077ca80b46e"
      },
      "outputs": [
        {
          "output_type": "stream",
          "name": "stdout",
          "text": [
            "mayor que 5\n"
          ]
        }
      ],
      "source": [
        "x = 10\n",
        "if x > 5:\n",
        "    print(\"mayor que 5\")\n",
        "elif x == 10:\n",
        "    print(\"Es 10\")\n",
        "else:\n",
        "    print(\"menor que 5\")"
      ]
    },
    {
      "cell_type": "markdown",
      "metadata": {
        "id": "ijPUbasa32io"
      },
      "source": [
        "##try / except / finally / raise\n",
        "- Manejo de errores.\n",
        "  - try → intenta ejecutar.\n",
        "  - except → si hay error, captura.\n",
        "  - finally → siempre se ejecuta.\n",
        "  - raise → lanza un error."
      ]
    },
    {
      "cell_type": "code",
      "execution_count": null,
      "metadata": {
        "id": "QSCobQOx33Tg"
      },
      "outputs": [],
      "source": [
        "try:\n",
        "    print(1/0)\n",
        "except:\n",
        "    print(\"Error!\")\n",
        "finally:\n",
        "    print(\"Siempre se ejecuta\")"
      ]
    },
    {
      "cell_type": "markdown",
      "metadata": {
        "id": "17vY2GAj32cp"
      },
      "source": [
        "##for / while\n",
        "- Bucles.\n",
        "  - for → recorre elementos.\n",
        "  - while → repite mientras una condición sea verdadera."
      ]
    },
    {
      "cell_type": "code",
      "execution_count": null,
      "metadata": {
        "id": "yrkEcLFE33vB"
      },
      "outputs": [],
      "source": [
        "for i in range(3):\n",
        "    print(i)  # 0,1,2\n",
        "x = 0\n",
        "while x < 3:\n",
        "    print(x)\n",
        "    x += 1"
      ]
    },
    {
      "cell_type": "markdown",
      "metadata": {
        "id": "xpGI0keD4ydK"
      },
      "source": [
        "##from / import\n",
        "- Para importar módulos."
      ]
    },
    {
      "cell_type": "code",
      "execution_count": 12,
      "metadata": {
        "id": "cOaSUv1i4yyB",
        "colab": {
          "base_uri": "https://localhost:8080/"
        },
        "outputId": "f74a7147-c080-4422-ba6d-3c8af1f8ce7e"
      },
      "outputs": [
        {
          "output_type": "stream",
          "name": "stdout",
          "text": [
            "4.0\n"
          ]
        }
      ],
      "source": [
        "from math import sqrt\n",
        "print(sqrt(16))"
      ]
    },
    {
      "cell_type": "markdown",
      "metadata": {
        "id": "JKeoiaBz4yXv"
      },
      "source": [
        "## global / nonlocal\n",
        "- Manejan variables de distintos niveles.\n",
        "  - global → modifica variable global.\n",
        "  - nonlocal → modifica variable de una función que contiene a otra."
      ]
    },
    {
      "cell_type": "code",
      "execution_count": null,
      "metadata": {
        "id": "JSPCeqg14zS2"
      },
      "outputs": [],
      "source": [
        "x = 5\n",
        "def f():\n",
        "    global x\n",
        "    x = 10\n",
        "f()\n",
        "print(x)"
      ]
    },
    {
      "cell_type": "markdown",
      "metadata": {
        "id": "M5ZjSLNA4yRx"
      },
      "source": [
        "##in / is\n",
        "  - in → para verificar pertenencia.\n",
        "  - is → compara identidad (si es el mismo objeto)."
      ]
    },
    {
      "cell_type": "code",
      "execution_count": 13,
      "metadata": {
        "id": "b_l9uxWY40Bh",
        "colab": {
          "base_uri": "https://localhost:8080/"
        },
        "outputId": "0580d54b-2dd6-4e4c-8d9f-e7746b9259ee"
      },
      "outputs": [
        {
          "output_type": "stream",
          "name": "stdout",
          "text": [
            "True\n",
            "True\n"
          ]
        }
      ],
      "source": [
        "print(3 in [1,2,3])\n",
        "x = None\n",
        "print(x is None)\n"
      ]
    },
    {
      "cell_type": "markdown",
      "metadata": {
        "id": "f9t2nTH24yLT"
      },
      "source": [
        "##lambda\n",
        "- Función anónima (sin nombre)."
      ]
    },
    {
      "cell_type": "code",
      "execution_count": 14,
      "metadata": {
        "id": "TEKcB_h340jj",
        "colab": {
          "base_uri": "https://localhost:8080/"
        },
        "outputId": "6618d696-f741-4e63-8a30-b5f33e8e464f"
      },
      "outputs": [
        {
          "output_type": "stream",
          "name": "stdout",
          "text": [
            "10\n"
          ]
        }
      ],
      "source": [
        "doble = lambda x: x*2\n",
        "print(doble(5))  # 10\n"
      ]
    },
    {
      "cell_type": "markdown",
      "metadata": {
        "id": "XB4XCj-F4yFy"
      },
      "source": [
        "##pass\n",
        "- Sirve para dejar algo vacío (placeholder)."
      ]
    },
    {
      "cell_type": "code",
      "execution_count": 15,
      "metadata": {
        "id": "kq3Xx06e405y"
      },
      "outputs": [],
      "source": [
        "def f():\n",
        "    pass  # no hace nada"
      ]
    },
    {
      "cell_type": "markdown",
      "metadata": {
        "id": "4l_wwNch4x_f"
      },
      "source": [
        "##with\n",
        "- Sirve para manejar recursos (ejemplo: abrir archivos)."
      ]
    },
    {
      "cell_type": "code",
      "execution_count": 16,
      "metadata": {
        "id": "diCqRtQk42HB"
      },
      "outputs": [],
      "source": [
        "with open(\"archivo.txt\", \"w\") as f:\n",
        "    f.write(\"Hola\")"
      ]
    },
    {
      "cell_type": "markdown",
      "metadata": {
        "id": "N8SwU-q94x5x"
      },
      "source": [
        "##yield\n",
        "- Convierte una función en generador (produce valores poco a poco)."
      ]
    },
    {
      "cell_type": "code",
      "execution_count": 17,
      "metadata": {
        "id": "CZ_xZc5y421X",
        "colab": {
          "base_uri": "https://localhost:8080/"
        },
        "outputId": "dfd92185-dada-40f3-e1ec-232e3ab21cff"
      },
      "outputs": [
        {
          "output_type": "stream",
          "name": "stdout",
          "text": [
            "0\n",
            "1\n",
            "2\n"
          ]
        }
      ],
      "source": [
        "def contador():\n",
        "    for i in range(3):\n",
        "        yield i\n",
        "for n in contador():\n",
        "    print(n)  # 0,1,2"
      ]
    },
    {
      "cell_type": "markdown",
      "source": [
        "#Is : sirve para comprobar la identidad de un objeto.\n"
      ],
      "metadata": {
        "id": "96Rb2tzFHLOk"
      }
    },
    {
      "cell_type": "code",
      "source": [
        "a = [1, 2]\n",
        "b = a\n",
        "print(a is b)"
      ],
      "metadata": {
        "colab": {
          "base_uri": "https://localhost:8080/"
        },
        "id": "n8pjhjfaHYJ8",
        "outputId": "ac611cdb-58a8-4187-ead3-e5993bb4da37"
      },
      "execution_count": 18,
      "outputs": [
        {
          "output_type": "stream",
          "name": "stdout",
          "text": [
            "True\n"
          ]
        }
      ]
    }
  ],
  "metadata": {
    "colab": {
      "provenance": [],
      "include_colab_link": true
    },
    "kernelspec": {
      "display_name": "Python 3",
      "name": "python3"
    },
    "language_info": {
      "name": "python"
    }
  },
  "nbformat": 4,
  "nbformat_minor": 0
}