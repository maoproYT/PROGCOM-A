{
  "nbformat": 4,
  "nbformat_minor": 0,
  "metadata": {
    "colab": {
      "provenance": []
    },
    "kernelspec": {
      "name": "python3",
      "display_name": "Python 3"
    },
    "language_info": {
      "name": "python"
    }
  },
  "cells": [
    {
      "cell_type": "markdown",
      "source": [
        "#Prueba diagnóstica"
      ],
      "metadata": {
        "id": "F3tmqwQcLebH"
      }
    },
    {
      "cell_type": "markdown",
      "source": [
        "##Estructuras de selección\n",
        "Aquí se desarrollará ejercicios sobre estructuras de selección.\n",
        "\n",
        "Por Pseint\n",
        "\n",
        "\n",
        "```\n",
        "si (condición) entonces:\n",
        "   pasan cosas divertidas\n",
        "sino:\n",
        "   llóralo\n",
        "```\n",
        "Por algoritmo\n",
        "1. Solicitio la variable y almaceno en a\n",
        "2. Comparo esa variable con la otra llamada b\n",
        "\n",
        "\n"
      ],
      "metadata": {
        "id": "ksioegMALR_l"
      }
    },
    {
      "cell_type": "markdown",
      "source": [],
      "metadata": {
        "id": "ITrHLMCrNPxr"
      }
    },
    {
      "cell_type": "markdown",
      "source": [],
      "metadata": {
        "id": "ELaOjK9ONPvd"
      }
    },
    {
      "cell_type": "code",
      "source": [
        "Por pseint :\n",
        "\n",
        "si (cib)"
      ],
      "metadata": {
        "colab": {
          "base_uri": "https://localhost:8080/",
          "height": 106
        },
        "id": "W2TvqbKTKCGO",
        "outputId": "48881624-d055-463e-db03-985fd8be45a8"
      },
      "execution_count": 10,
      "outputs": [
        {
          "output_type": "error",
          "ename": "SyntaxError",
          "evalue": "invalid syntax (ipython-input-2771735435.py, line 1)",
          "traceback": [
            "\u001b[0;36m  File \u001b[0;32m\"/tmp/ipython-input-2771735435.py\"\u001b[0;36m, line \u001b[0;32m1\u001b[0m\n\u001b[0;31m    Por pseint :\u001b[0m\n\u001b[0m        ^\u001b[0m\n\u001b[0;31mSyntaxError\u001b[0m\u001b[0;31m:\u001b[0m invalid syntax\n"
          ]
        }
      ]
    }
  ]
}