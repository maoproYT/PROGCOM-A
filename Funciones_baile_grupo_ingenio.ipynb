{
  "nbformat": 4,
  "nbformat_minor": 0,
  "metadata": {
    "colab": {
      "provenance": [],
      "authorship_tag": "ABX9TyMWCOlwIH6bA1XxIx2uXMsQ",
      "include_colab_link": true
    },
    "kernelspec": {
      "name": "python3",
      "display_name": "Python 3"
    },
    "language_info": {
      "name": "python"
    }
  },
  "cells": [
    {
      "cell_type": "markdown",
      "metadata": {
        "id": "view-in-github",
        "colab_type": "text"
      },
      "source": [
        "<a href=\"https://colab.research.google.com/github/maoproYT/PROGCOM-A/blob/main/Funciones_baile_grupo_ingenio.ipynb\" target=\"_parent\"><img src=\"https://colab.research.google.com/assets/colab-badge.svg\" alt=\"Open In Colab\"/></a>"
      ]
    },
    {
      "cell_type": "code",
      "execution_count": 19,
      "metadata": {
        "colab": {
          "base_uri": "https://localhost:8080/"
        },
        "id": "O-eB6RDHsaDx",
        "outputId": "2ed0be65-b38f-4a47-b909-873c119625ae"
      },
      "outputs": [
        {
          "output_type": "stream",
          "name": "stdout",
          "text": [
            "Deslizar pie derecho en 45 grados\n",
            "Levantar brazo izquierdo en L\n"
          ]
        }
      ],
      "source": [
        "#pose del video\n",
        "def pose_inicial(a):\n",
        "  for movimientos in range (a):\n",
        "   print (\"Deslizar pie derecho a una posición de 45 grados\")\n",
        "   print (\"Levantar brazo izquierdo en posición de L\")\n",
        "pose_inicial(1)"
      ]
    },
    {
      "cell_type": "code",
      "source": [
        "#levantar los brazos\n",
        "def mover_brazos (a):\n",
        "  for brazos in range (a):\n",
        "    print(\"levantar brazo izquierdo\")\n",
        "    print(\"levantar brazo derecho\")\n",
        "mover_brazos(2)\n",
        ""
      ],
      "metadata": {
        "colab": {
          "base_uri": "https://localhost:8080/"
        },
        "id": "C-1ZR9CVtBHa",
        "outputId": "34fb138c-a96d-4ebd-84c9-f5b7967365a2"
      },
      "execution_count": 21,
      "outputs": [
        {
          "output_type": "stream",
          "name": "stdout",
          "text": [
            "Alzar brazo izquierdo\n",
            "Alzar brazo derecho\n",
            "Alzar brazo izquierdo\n",
            "Alzar brazo derecho\n"
          ]
        }
      ]
    },
    {
      "cell_type": "code",
      "source": [
        "#dar pequeños saltos\n",
        "\n",
        "def saltar(puños,salto):\n",
        " for saltitos in range(puños):\n",
        "  print(\"Poner los puños en la cintura\")\n",
        " for saltitos in range(salto):\n",
        "  print(\"Dar un pequeño salto\")\n",
        "saltar(1,4)"
      ],
      "metadata": {
        "colab": {
          "base_uri": "https://localhost:8080/"
        },
        "id": "tPlq1cGvtv8C",
        "outputId": "7169e485-c57c-4e32-c6e1-2eadee554e40"
      },
      "execution_count": 22,
      "outputs": [
        {
          "output_type": "stream",
          "name": "stdout",
          "text": [
            "Poner los puños en la cintura\n",
            "Dar un pequeño salto\n",
            "Dar un pequeño salto\n",
            "Dar un pequeño salto\n",
            "Dar un pequeño salto\n"
          ]
        }
      ]
    },
    {
      "cell_type": "code",
      "source": [
        "#mover la cintura\n",
        "def mover_la_cintura(a,b):\n",
        "  for cintura in range(a):\n",
        "    print(\"Levantar los brazos en forma de V\")\n",
        "  for cintura in range (b):\n",
        "    print(\"Mover cadera a la izquierda\")\n",
        "    print(\"Mover cadera a la derecha\")\n",
        "mover_la_cintura(1,2)"
      ],
      "metadata": {
        "colab": {
          "base_uri": "https://localhost:8080/"
        },
        "id": "4j6hfcK7uHVx",
        "outputId": "f507a516-263a-4d35-816f-d3d73f9ac970"
      },
      "execution_count": 24,
      "outputs": [
        {
          "output_type": "stream",
          "name": "stdout",
          "text": [
            "Levantar los brazos en forma de V\n",
            "Mover cadera a la izquierda\n",
            "Mover cadera a la derecha\n",
            "Mover cadera a la izquierda\n",
            "Mover cadera a la derecha\n"
          ]
        }
      ]
    },
    {
      "cell_type": "code",
      "source": [
        "#Bajar los brazos\n",
        "def brazos_hacia_abajo(a):\n",
        "  for hacia_abajo in range(a):\n",
        "    print(\"Bajar los brazos en forma de V invertida\")\n",
        "brazos_hacia_abajo(1)\n"
      ],
      "metadata": {
        "colab": {
          "base_uri": "https://localhost:8080/"
        },
        "id": "M7v_xneBuhjo",
        "outputId": "095d9c07-f4b9-430a-82f2-06c5e96d9d80"
      },
      "execution_count": 34,
      "outputs": [
        {
          "output_type": "stream",
          "name": "stdout",
          "text": [
            "Bajar los brazos en forma de V invertida\n"
          ]
        }
      ]
    },
    {
      "cell_type": "code",
      "source": [
        "#Sacudir los brazos\n",
        "def sacudir_los_brazitos(a,b):\n",
        "  for sacudir in range(b):\n",
        "    print(\"Poner el brazo derecho a 90 grados \")\n",
        "    print(\"Poner el brazo izquierdo a 90 grados\")\n",
        "  for sacudir in range(a):\n",
        "     print(\"Sacudir los brazos de derecha a izquierda\")\n",
        "sacudir_los_brazitos(2,1)\n",
        ""
      ],
      "metadata": {
        "colab": {
          "base_uri": "https://localhost:8080/"
        },
        "id": "SDWftHTbuut6",
        "outputId": "88b0e829-393b-4021-a16f-2938eec4606a"
      },
      "execution_count": 26,
      "outputs": [
        {
          "output_type": "stream",
          "name": "stdout",
          "text": [
            "Poner brazito derecho a 90 grados \n",
            "Poner brazito izquierdo a 90 grados\n",
            "Sacudir brazitos de derecha a izquierda\n",
            "Sacudir brazitos de derecha a izquierda\n"
          ]
        }
      ]
    },
    {
      "cell_type": "code",
      "source": [
        "#Agachados y movimiento\n",
        "def agachados(a,b):\n",
        "  for agachado in range(a):\n",
        "    print(\"Separar pies y juntar las rodillas\")\n",
        "  for agachado in range(b):\n",
        "    print(\"Mover la cola a la derecha\")\n",
        "    print(\"Mover la cola a la izquierda\")\n",
        "agachados(1,2)"
      ],
      "metadata": {
        "colab": {
          "base_uri": "https://localhost:8080/"
        },
        "id": "l3wUEc-2uvBg",
        "outputId": "01a0b134-e0bd-40a8-f100-6bdd02f1f13f"
      },
      "execution_count": 33,
      "outputs": [
        {
          "output_type": "stream",
          "name": "stdout",
          "text": [
            "Separar pies y juntar las rodillas\n",
            "Mover la cola a la derecha\n",
            "Mover la cola a la izquierda\n",
            "Mover la cola a la derecha\n",
            "Mover la cola a la izquierda\n"
          ]
        }
      ]
    },
    {
      "cell_type": "code",
      "source": [
        "#Deslizar el cuerpo\n",
        "def deslizar_el_cuerpo(a,b):\n",
        "  for deslizar in range(a):\n",
        "    print(\"Juntar piernas\")\n",
        "    print(\"Juntar brazos\")\n",
        "  for deslizar in range(b):\n",
        "    print(\"Deslizar piernas hacia la izquierda\")\n",
        "    print(\"Mover brazos hacia la derecha\")\n",
        "    print(\"Deslizar piernas hacia la derecha\")\n",
        "    print(\"Mover brazos hacia la izquierda\")\n",
        "    print(\"Deslizar piernas hacia la izquierda\")\n",
        "    print(\"Mover brazos hacia la derecha\")\n",
        "deslizar_el_cuerpo(1,1)"
      ],
      "metadata": {
        "colab": {
          "base_uri": "https://localhost:8080/"
        },
        "id": "t3ISWV7yuvNA",
        "outputId": "dd7142a1-71eb-4f76-a843-90f19180c0ac"
      },
      "execution_count": 32,
      "outputs": [
        {
          "output_type": "stream",
          "name": "stdout",
          "text": [
            "Juntar piernas\n",
            "Juntar brazos\n",
            "Deslizar piernas hacia la izquierda\n",
            "Mover brazos hacia la derecha\n",
            "Deslizar piernas hacia la derecha\n",
            "Mover brazos hacia la izquierda\n",
            "Deslizar piernas hacia la izquierda\n",
            "Mover brazos hacia la derecha\n"
          ]
        }
      ]
    },
    {
      "cell_type": "code",
      "source": [
        "#levantar pierna\n",
        "def levantar_pierna(a,b):\n",
        " for pierna in range(b):\n",
        "  print (\"Poner los brazos al frente del cuerpo\")\n",
        " for pierna in range(a):\n",
        "  print(\"Girar los brazos hacia la derecha del cuerpo\")\n",
        "  print(\"Levantar la pierna derecha  hacia la posición de la pierna izquierda\")\n",
        "  print(\"Girar brazos hacia la izquierda del cuerpo\")\n",
        "  print(\"Levantar la pierna izquierda hacia la derecha\")\n",
        "levantar_pierna(1,1)"
      ],
      "metadata": {
        "colab": {
          "base_uri": "https://localhost:8080/"
        },
        "id": "M7RNoTEwuvWI",
        "outputId": "7e452441-a6b2-41c5-e84d-3cccb0246ed5"
      },
      "execution_count": 31,
      "outputs": [
        {
          "output_type": "stream",
          "name": "stdout",
          "text": [
            "Poner los brazos al frente del cuerpo\n",
            "Girar los brazos hacia la derecha del cuerpo\n",
            "Levantar la pierna derecha  hacia la posición de la pierna izquierda\n",
            "Girar brazos hacia la izquierda del cuerpo\n",
            "Levantar la pierna izquierda hacia la derecha\n"
          ]
        }
      ]
    },
    {
      "cell_type": "code",
      "source": [
        "#La cara\n",
        "def paso_final(a):\n",
        "  for cara in range(a):\n",
        "    print(\"Tocar hombro izquierdo con la mano derecha\")\n",
        "    print(\"Tocar hombro derecho con la mano izquierda\")\n",
        "    print(\"Deslizar manos sobre el menton\")\n",
        "    print(\"Deslizar manos sobre la mejilla izquierda\")\n",
        "    print(\"Deslizar manos sobre la mejilla derecha\")\n",
        "    print(\"Posicionar el brazo izquierdo en la cintura, levantar el brazo derecho y levantar la pierna hacia la  posición contraria a la que levantaste el brazo\")\n",
        "paso_final(1)"
      ],
      "metadata": {
        "colab": {
          "base_uri": "https://localhost:8080/"
        },
        "id": "ikmzrscouvfg",
        "outputId": "f54dc90f-5bc1-4e4e-8c4d-eccea92da6a0"
      },
      "execution_count": 37,
      "outputs": [
        {
          "output_type": "stream",
          "name": "stdout",
          "text": [
            "Tocar hombro izquierdo con la mano derecha\n",
            "Tocar hombro derecho con la mano izquierda\n",
            "Deslizar manos sobre el menton\n",
            "Deslizar manos sobre la mejilla izquierda\n",
            "Deslizar manos sobre la mejilla derecha\n",
            "Posicionar el brazo izquierdo en la cintura, levantar el brazo derecho y levantar la pierna hacia la  posición contraria a la que levantaste el brazo\n"
          ]
        }
      ]
    }
  ]
}