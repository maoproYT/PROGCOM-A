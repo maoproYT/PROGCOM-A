{
  "nbformat": 4,
  "nbformat_minor": 0,
  "metadata": {
    "colab": {
      "provenance": [],
      "authorship_tag": "ABX9TyPIbnH+H05tNHwQeiNxjjLC",
      "include_colab_link": true
    },
    "kernelspec": {
      "name": "python3",
      "display_name": "Python 3"
    },
    "language_info": {
      "name": "python"
    }
  },
  "cells": [
    {
      "cell_type": "markdown",
      "metadata": {
        "id": "view-in-github",
        "colab_type": "text"
      },
      "source": [
        "<a href=\"https://colab.research.google.com/github/maoproYT/PROGCOM-A/blob/main/Clase_2_Estructuras_de_repetici%C3%B3n_final_ejercicios.ipynb\" target=\"_parent\"><img src=\"https://colab.research.google.com/assets/colab-badge.svg\" alt=\"Open In Colab\"/></a>"
      ]
    },
    {
      "cell_type": "markdown",
      "source": [
        "#Estructuras de repeticioón\n",
        "permite repetir una o más acciones de acuerdo con una condición"
      ],
      "metadata": {
        "id": "VrEItlo4REWM"
      }
    },
    {
      "cell_type": "markdown",
      "source": [
        "#Estructura para - for\n",
        "\n",
        "1. Cuando se sabe cuántas veces se repite una acción\n",
        "2. Está conformado por una comndición inicial (CI) una condición fian (CF) y pasos (frecuencia de repeticion)\n",
        "3. Esta estructura no se detendrá, hasta alcanzar CF-1\n",
        "\n",
        "Estrcutura general del for\n",
        "\n",
        "```\n",
        "for (variable) in range(CI,CF+1,paso):\n",
        "  Se repite (CF+1-CI)/paso veces una acción\n",
        "```\n",
        "Estructura resumida del for\n",
        "```\n",
        "for (variable) in range(cantidad):\n",
        "  Se repite cantidad de veces una acción\n",
        "```\n",
        "Estructura for como iteración\n",
        "\n",
        "1. El para (for) itera tantas veces, como  elementos tenga la lista\n",
        "2. La variable toma el valor de cada elemento de la lista por iteración\n",
        "```\n",
        "Lista=[1,2,3,4,5]\n",
        "for (variable) in Lista:\n",
        "  Se repite len(lista)\n",
        "```\n",
        "\n",
        "\n",
        "\n"
      ],
      "metadata": {
        "id": "fLcS4yzJRW3D"
      }
    },
    {
      "cell_type": "code",
      "execution_count": null,
      "metadata": {
        "colab": {
          "base_uri": "https://localhost:8080/"
        },
        "id": "cc5pyDyBQ7iK",
        "outputId": "03c55cc0-9393-4c2c-d38a-d4c349bc0e5d"
      },
      "outputs": [
        {
          "output_type": "stream",
          "name": "stdout",
          "text": [
            "la tabla de un numero\n",
            "digita una variable10\n",
            "10 * 1 = 10\n",
            "10 * 2 = 20\n",
            "10 * 3 = 30\n",
            "10 * 4 = 40\n",
            "10 * 5 = 50\n",
            "10 * 6 = 60\n",
            "10 * 7 = 70\n",
            "10 * 8 = 80\n",
            "10 * 9 = 90\n",
            "10 * 10 = 100\n"
          ]
        }
      ],
      "source": [
        "print(\"la tabla de un numero\")\n",
        "n = int(input(\"digita una variable\"))\n",
        "for i in range(1,11,1):\n",
        "    print(f\"{n} * {i} = {n*i}\")"
      ]
    },
    {
      "cell_type": "code",
      "source": [
        "print(\"la tabla del 1 al 10\")\n",
        "n = int(input(\"digita una variable\"))\n",
        "for elefante in range(1,11,2):\n",
        "    print(f\"{n} * {elefante} = {n*elefante}\")"
      ],
      "metadata": {
        "colab": {
          "base_uri": "https://localhost:8080/"
        },
        "id": "CTt-iVETVQUy",
        "outputId": "3d207bf5-eb71-44c1-f084-aa1ed8ce65bd"
      },
      "execution_count": null,
      "outputs": [
        {
          "output_type": "stream",
          "name": "stdout",
          "text": [
            "la tabla del 1 al 10\n",
            "digita una variable10\n",
            "10 * 1 = 10\n",
            "10 * 2 = 20\n",
            "10 * 3 = 30\n",
            "10 * 4 = 40\n",
            "10 * 5 = 50\n",
            "10 * 6 = 60\n",
            "10 * 7 = 70\n",
            "10 * 8 = 80\n",
            "10 * 9 = 90\n",
            "10 * 10 = 100\n"
          ]
        }
      ]
    },
    {
      "cell_type": "code",
      "source": [
        "print(\"tabla de multiplicar\\n\")\n",
        "for cantidad in range(1,11):\n",
        "  print(f\"tabla del {cantidad}\")\n",
        "  for numero in range(1,11):\n",
        "    print(f\"{cantidad} * {numero} = {cantidad*numero}\")\n",
        "  print(\"\")"
      ],
      "metadata": {
        "colab": {
          "base_uri": "https://localhost:8080/"
        },
        "id": "dRXMCVedXJTY",
        "outputId": "16209a0b-0e1a-4302-85db-42a6ca55fb71"
      },
      "execution_count": null,
      "outputs": [
        {
          "output_type": "stream",
          "name": "stdout",
          "text": [
            "tabla de multiplicar\n",
            "\n",
            "tabla del 1\n",
            "1 * 1 = 1\n",
            "1 * 2 = 2\n",
            "1 * 3 = 3\n",
            "1 * 4 = 4\n",
            "1 * 5 = 5\n",
            "1 * 6 = 6\n",
            "1 * 7 = 7\n",
            "1 * 8 = 8\n",
            "1 * 9 = 9\n",
            "1 * 10 = 10\n",
            "\n",
            "tabla del 2\n",
            "2 * 1 = 2\n",
            "2 * 2 = 4\n",
            "2 * 3 = 6\n",
            "2 * 4 = 8\n",
            "2 * 5 = 10\n",
            "2 * 6 = 12\n",
            "2 * 7 = 14\n",
            "2 * 8 = 16\n",
            "2 * 9 = 18\n",
            "2 * 10 = 20\n",
            "\n",
            "tabla del 3\n",
            "3 * 1 = 3\n",
            "3 * 2 = 6\n",
            "3 * 3 = 9\n",
            "3 * 4 = 12\n",
            "3 * 5 = 15\n",
            "3 * 6 = 18\n",
            "3 * 7 = 21\n",
            "3 * 8 = 24\n",
            "3 * 9 = 27\n",
            "3 * 10 = 30\n",
            "\n",
            "tabla del 4\n",
            "4 * 1 = 4\n",
            "4 * 2 = 8\n",
            "4 * 3 = 12\n",
            "4 * 4 = 16\n",
            "4 * 5 = 20\n",
            "4 * 6 = 24\n",
            "4 * 7 = 28\n",
            "4 * 8 = 32\n",
            "4 * 9 = 36\n",
            "4 * 10 = 40\n",
            "\n",
            "tabla del 5\n",
            "5 * 1 = 5\n",
            "5 * 2 = 10\n",
            "5 * 3 = 15\n",
            "5 * 4 = 20\n",
            "5 * 5 = 25\n",
            "5 * 6 = 30\n",
            "5 * 7 = 35\n",
            "5 * 8 = 40\n",
            "5 * 9 = 45\n",
            "5 * 10 = 50\n",
            "\n",
            "tabla del 6\n",
            "6 * 1 = 6\n",
            "6 * 2 = 12\n",
            "6 * 3 = 18\n",
            "6 * 4 = 24\n",
            "6 * 5 = 30\n",
            "6 * 6 = 36\n",
            "6 * 7 = 42\n",
            "6 * 8 = 48\n",
            "6 * 9 = 54\n",
            "6 * 10 = 60\n",
            "\n",
            "tabla del 7\n",
            "7 * 1 = 7\n",
            "7 * 2 = 14\n",
            "7 * 3 = 21\n",
            "7 * 4 = 28\n",
            "7 * 5 = 35\n",
            "7 * 6 = 42\n",
            "7 * 7 = 49\n",
            "7 * 8 = 56\n",
            "7 * 9 = 63\n",
            "7 * 10 = 70\n",
            "\n",
            "tabla del 8\n",
            "8 * 1 = 8\n",
            "8 * 2 = 16\n",
            "8 * 3 = 24\n",
            "8 * 4 = 32\n",
            "8 * 5 = 40\n",
            "8 * 6 = 48\n",
            "8 * 7 = 56\n",
            "8 * 8 = 64\n",
            "8 * 9 = 72\n",
            "8 * 10 = 80\n",
            "\n",
            "tabla del 9\n",
            "9 * 1 = 9\n",
            "9 * 2 = 18\n",
            "9 * 3 = 27\n",
            "9 * 4 = 36\n",
            "9 * 5 = 45\n",
            "9 * 6 = 54\n",
            "9 * 7 = 63\n",
            "9 * 8 = 72\n",
            "9 * 9 = 81\n",
            "9 * 10 = 90\n",
            "\n",
            "tabla del 10\n",
            "10 * 1 = 10\n",
            "10 * 2 = 20\n",
            "10 * 3 = 30\n",
            "10 * 4 = 40\n",
            "10 * 5 = 50\n",
            "10 * 6 = 60\n",
            "10 * 7 = 70\n",
            "10 * 8 = 80\n",
            "10 * 9 = 90\n",
            "10 * 10 = 100\n",
            "\n"
          ]
        }
      ]
    },
    {
      "cell_type": "code",
      "source": [
        "print(f\"la tabla del {n}\")\n",
        "n = int(input(\"digita una variable\"))\n",
        "for elefante in range(10):\n",
        "  print(\"\")\n",
        "  for cantidad in range(1,11,1):\n",
        "    print(f\"{elefante+1} * {cantidad} = {cantidad*(elefante+1)}\")"
      ],
      "metadata": {
        "colab": {
          "base_uri": "https://localhost:8080/"
        },
        "id": "Vt_l6xl4YQHX",
        "outputId": "ca1c5210-6f3b-4d68-e06f-f7257c3a9236"
      },
      "execution_count": null,
      "outputs": [
        {
          "output_type": "stream",
          "name": "stdout",
          "text": [
            "la tabla del 10\n",
            "digita una variable10\n",
            "\n",
            "1 * 1 = 1\n",
            "1 * 2 = 2\n",
            "1 * 3 = 3\n",
            "1 * 4 = 4\n",
            "1 * 5 = 5\n",
            "1 * 6 = 6\n",
            "1 * 7 = 7\n",
            "1 * 8 = 8\n",
            "1 * 9 = 9\n",
            "1 * 10 = 10\n",
            "\n",
            "2 * 1 = 2\n",
            "2 * 2 = 4\n",
            "2 * 3 = 6\n",
            "2 * 4 = 8\n",
            "2 * 5 = 10\n",
            "2 * 6 = 12\n",
            "2 * 7 = 14\n",
            "2 * 8 = 16\n",
            "2 * 9 = 18\n",
            "2 * 10 = 20\n",
            "\n",
            "3 * 1 = 3\n",
            "3 * 2 = 6\n",
            "3 * 3 = 9\n",
            "3 * 4 = 12\n",
            "3 * 5 = 15\n",
            "3 * 6 = 18\n",
            "3 * 7 = 21\n",
            "3 * 8 = 24\n",
            "3 * 9 = 27\n",
            "3 * 10 = 30\n",
            "\n",
            "4 * 1 = 4\n",
            "4 * 2 = 8\n",
            "4 * 3 = 12\n",
            "4 * 4 = 16\n",
            "4 * 5 = 20\n",
            "4 * 6 = 24\n",
            "4 * 7 = 28\n",
            "4 * 8 = 32\n",
            "4 * 9 = 36\n",
            "4 * 10 = 40\n",
            "\n",
            "5 * 1 = 5\n",
            "5 * 2 = 10\n",
            "5 * 3 = 15\n",
            "5 * 4 = 20\n",
            "5 * 5 = 25\n",
            "5 * 6 = 30\n",
            "5 * 7 = 35\n",
            "5 * 8 = 40\n",
            "5 * 9 = 45\n",
            "5 * 10 = 50\n",
            "\n",
            "6 * 1 = 6\n",
            "6 * 2 = 12\n",
            "6 * 3 = 18\n",
            "6 * 4 = 24\n",
            "6 * 5 = 30\n",
            "6 * 6 = 36\n",
            "6 * 7 = 42\n",
            "6 * 8 = 48\n",
            "6 * 9 = 54\n",
            "6 * 10 = 60\n",
            "\n",
            "7 * 1 = 7\n",
            "7 * 2 = 14\n",
            "7 * 3 = 21\n",
            "7 * 4 = 28\n",
            "7 * 5 = 35\n",
            "7 * 6 = 42\n",
            "7 * 7 = 49\n",
            "7 * 8 = 56\n",
            "7 * 9 = 63\n",
            "7 * 10 = 70\n",
            "\n",
            "8 * 1 = 8\n",
            "8 * 2 = 16\n",
            "8 * 3 = 24\n",
            "8 * 4 = 32\n",
            "8 * 5 = 40\n",
            "8 * 6 = 48\n",
            "8 * 7 = 56\n",
            "8 * 8 = 64\n",
            "8 * 9 = 72\n",
            "8 * 10 = 80\n",
            "\n",
            "9 * 1 = 9\n",
            "9 * 2 = 18\n",
            "9 * 3 = 27\n",
            "9 * 4 = 36\n",
            "9 * 5 = 45\n",
            "9 * 6 = 54\n",
            "9 * 7 = 63\n",
            "9 * 8 = 72\n",
            "9 * 9 = 81\n",
            "9 * 10 = 90\n",
            "\n",
            "10 * 1 = 10\n",
            "10 * 2 = 20\n",
            "10 * 3 = 30\n",
            "10 * 4 = 40\n",
            "10 * 5 = 50\n",
            "10 * 6 = 60\n",
            "10 * 7 = 70\n",
            "10 * 8 = 80\n",
            "10 * 9 = 90\n",
            "10 * 10 = 100\n"
          ]
        }
      ]
    },
    {
      "cell_type": "code",
      "source": [
        "print(f\"la tabla del {n}\")\n",
        "n = int(input(\"digita una variable\"))\n",
        "for elefante in range(-2,22,2):\n",
        "    print(f\"{n} * {elefante} = {n*elefante}\")"
      ],
      "metadata": {
        "colab": {
          "base_uri": "https://localhost:8080/"
        },
        "id": "ykK5wuUHaOuV",
        "outputId": "b1565fb3-48e3-4d91-bccb-02d58186057c"
      },
      "execution_count": null,
      "outputs": [
        {
          "output_type": "stream",
          "name": "stdout",
          "text": [
            "la tabla del 10\n",
            "digita una variable10\n",
            "10 * -2 = -20\n",
            "10 * 0 = 0\n",
            "10 * 2 = 20\n",
            "10 * 4 = 40\n",
            "10 * 6 = 60\n",
            "10 * 8 = 80\n",
            "10 * 10 = 100\n",
            "10 * 12 = 120\n",
            "10 * 14 = 140\n",
            "10 * 16 = 160\n",
            "10 * 18 = 180\n",
            "10 * 20 = 200\n"
          ]
        }
      ]
    },
    {
      "cell_type": "code",
      "source": [
        "n= 7\n",
        "print(f\"tabla del {n}\")\n",
        "for holitas in range(1,11*n,n):\n",
        "  print(f\"{n} x {int(holitas/n)} = {int(holitas)}\")"
      ],
      "metadata": {
        "colab": {
          "base_uri": "https://localhost:8080/"
        },
        "id": "R5SEMTR7dzJ6",
        "outputId": "495f024c-bc2f-475c-aa76-4ca0b64bd31d"
      },
      "execution_count": 1,
      "outputs": [
        {
          "output_type": "stream",
          "name": "stdout",
          "text": [
            "tabla del 7\n",
            "7 x 0 = 1\n",
            "7 x 1 = 8\n",
            "7 x 2 = 15\n",
            "7 x 3 = 22\n",
            "7 x 4 = 29\n",
            "7 x 5 = 36\n",
            "7 x 6 = 43\n",
            "7 x 7 = 50\n",
            "7 x 8 = 57\n",
            "7 x 9 = 64\n",
            "7 x 10 = 71\n"
          ]
        }
      ]
    },
    {
      "cell_type": "code",
      "source": [
        "numeros =[1,2,3,4,5,6,7,8,9,10]\n",
        "for num in numeros:\n",
        "  print(f\"{n} x {int(num)} = {n*int(num)}\")\n",
        "\n"
      ],
      "metadata": {
        "colab": {
          "base_uri": "https://localhost:8080/"
        },
        "id": "dk8NhzPCgRJ5",
        "outputId": "b63732e2-cf2f-4ad9-a745-d33b0db38879"
      },
      "execution_count": null,
      "outputs": [
        {
          "output_type": "stream",
          "name": "stdout",
          "text": [
            "7 x 1 = 7\n",
            "7 x 2 = 14\n",
            "7 x 3 = 21\n",
            "7 x 4 = 28\n",
            "7 x 5 = 35\n",
            "7 x 6 = 42\n",
            "7 x 7 = 49\n",
            "7 x 8 = 56\n",
            "7 x 9 = 63\n",
            "7 x 10 = 70\n"
          ]
        }
      ]
    },
    {
      "cell_type": "code",
      "source": [
        "numeros2=list(range(1,11))\n",
        "\n",
        "for num in numeros2:\n",
        "  print(f\"{n} x {int(num)} = {n*int(num)}\")"
      ],
      "metadata": {
        "colab": {
          "base_uri": "https://localhost:8080/"
        },
        "id": "dfOeHCAxhCtY",
        "outputId": "05a7e087-a44c-4250-cf60-34313ec3ed60"
      },
      "execution_count": null,
      "outputs": [
        {
          "output_type": "stream",
          "name": "stdout",
          "text": [
            "7 x 1 = 7\n",
            "7 x 2 = 14\n",
            "7 x 3 = 21\n",
            "7 x 4 = 28\n",
            "7 x 5 = 35\n",
            "7 x 6 = 42\n",
            "7 x 7 = 49\n",
            "7 x 8 = 56\n",
            "7 x 9 = 63\n",
            "7 x 10 = 70\n"
          ]
        }
      ]
    },
    {
      "cell_type": "markdown",
      "source": [
        "##Listas\n",
        "1. Es un tipo de datos\n",
        "2. Todos los elementos de una lista, **deben** estar separados por comas\n",
        "3. Forma  canónica para declarar una lista\n",
        "\n",
        "\n",
        "```\n",
        "(variable)=[]\n",
        "```\n",
        "ejemplo:\n",
        "flores=[\"amapola\",\"tulipan\",\"lengua\"]\n",
        "print(flores)\n",
        "\n"
      ],
      "metadata": {
        "id": "E47SGW_oxAEu"
      }
    },
    {
      "cell_type": "code",
      "source": [
        "dahlia= 3 #variable de tipo numérica, int\n",
        "rosa= \"cinco\"#variable de tipo alfanumérico, str\n",
        "flores=[\"amapola\",\"tulipan\",\"lengua de suegra\", dahlia]"
      ],
      "metadata": {
        "id": "ftRhAcNLzKdg"
      },
      "execution_count": null,
      "outputs": []
    },
    {
      "cell_type": "markdown",
      "source": [
        "4. Maual.\n",
        "\n",
        "```\n",
        "Lista2=[dato1,dato2,dato3...datoN]\n",
        "```\n",
        "5. Son siempre finitas\n",
        "6. Son indexadas\n",
        "\n",
        "\n",
        "```\n",
        "Lista2=[dato1,dato2,dato3...datoN]\n",
        "```\n",
        "\n",
        "dato1 está en el index 0\n",
        "dato2 está bucado en el index 1\n",
        "\n",
        "7. Estructuras **para** para la creación de listas\n",
        "##Crea una lista de 5 elementos\n",
        "\n",
        "\n",
        "\n",
        "\n"
      ],
      "metadata": {
        "id": "VhnZefUXzLJM"
      }
    },
    {
      "cell_type": "code",
      "source": [
        "flores = []\n",
        "for loquesea in range(5):\n",
        "  flores= (input(\"ingresa el nombre de una flor\"))\n",
        "\n"
      ],
      "metadata": {
        "colab": {
          "base_uri": "https://localhost:8080/"
        },
        "id": "Ye2xRot1z5WE",
        "outputId": "6ac07a5d-cf51-401d-a4f0-1aaf80726d54"
      },
      "execution_count": null,
      "outputs": [
        {
          "name": "stdout",
          "output_type": "stream",
          "text": [
            "ingresa el nombre de una flormauro\n",
            "ingresa el nombre de una florana\n",
            "ingresa el nombre de una flor\n",
            "ingresa el nombre de una flormaria\n",
            "ingresa el nombre de una florsofia\n"
          ]
        }
      ]
    },
    {
      "cell_type": "code",
      "source": [
        "flores.index(\"mauro\")"
      ],
      "metadata": {
        "id": "WTKmbouq3hJp"
      },
      "execution_count": null,
      "outputs": []
    },
    {
      "cell_type": "code",
      "source": [
        "flores[len(flores)-1]"
      ],
      "metadata": {
        "id": "Rpbm9ilx333B"
      },
      "execution_count": null,
      "outputs": []
    },
    {
      "cell_type": "code",
      "source": [
        "len(flores)"
      ],
      "metadata": {
        "colab": {
          "base_uri": "https://localhost:8080/"
        },
        "id": "9ZNnb4AR36qg",
        "outputId": "4f631df7-b2ec-4467-f5ee-cff4d6decf4e"
      },
      "execution_count": null,
      "outputs": [
        {
          "output_type": "execute_result",
          "data": {
            "text/plain": [
              "4"
            ]
          },
          "metadata": {},
          "execution_count": 41
        }
      ]
    },
    {
      "cell_type": "code",
      "source": [
        "flores"
      ],
      "metadata": {
        "colab": {
          "base_uri": "https://localhost:8080/",
          "height": 35
        },
        "id": "F1lfjuBy3-7M",
        "outputId": "78aaf5a7-849e-426e-8e5c-167e7b304508"
      },
      "execution_count": null,
      "outputs": [
        {
          "output_type": "execute_result",
          "data": {
            "text/plain": [
              "'sofia'"
            ],
            "application/vnd.google.colaboratory.intrinsic+json": {
              "type": "string"
            }
          },
          "metadata": {},
          "execution_count": 45
        }
      ]
    },
    {
      "cell_type": "code",
      "source": [
        "Va"
      ],
      "metadata": {
        "colab": {
          "base_uri": "https://localhost:8080/"
        },
        "id": "NOPxKG4i66OK",
        "outputId": "cd52e68c-089c-4aac-e7b4-ce48972fe232"
      },
      "execution_count": null,
      "outputs": [
        {
          "output_type": "execute_result",
          "data": {
            "text/plain": [
              "[1, 2, 3, 4, 5]"
            ]
          },
          "metadata": {},
          "execution_count": 62
        }
      ]
    },
    {
      "cell_type": "markdown",
      "source": [
        "#EJERCICIO 1\n"
      ],
      "metadata": {
        "id": "Ek5PJ9Eo9lrn"
      }
    },
    {
      "cell_type": "code",
      "execution_count": 9,
      "metadata": {
        "colab": {
          "base_uri": "https://localhost:8080/"
        },
        "id": "-55Sn8aW7t1R",
        "outputId": "a70598de-e1b7-44f6-94a1-cbbd3d0b9448"
      },
      "outputs": [
        {
          "output_type": "stream",
          "name": "stdout",
          "text": [
            "[1, 2, 3, 4, 5, 6, 7, 8, 9, 10]\n"
          ]
        }
      ],
      "source": [
        "numero = []\n",
        "for i in range(1,11):\n",
        "  numero.append(i)\n",
        "print(numero)"
      ]
    },
    {
      "cell_type": "code",
      "source": [
        "for i in range(1,11):\n",
        "  print(i)"
      ],
      "metadata": {
        "colab": {
          "base_uri": "https://localhost:8080/"
        },
        "id": "xrUGQBZx9c41",
        "outputId": "7dd86c83-99d7-4447-b11e-b5befff60520"
      },
      "execution_count": 7,
      "outputs": [
        {
          "output_type": "stream",
          "name": "stdout",
          "text": [
            "1\n",
            "2\n",
            "3\n",
            "4\n",
            "5\n",
            "6\n",
            "7\n",
            "8\n",
            "9\n",
            "10\n"
          ]
        }
      ]
    },
    {
      "cell_type": "markdown",
      "source": [
        "#EJERCICIO 2"
      ],
      "metadata": {
        "id": "A6KiGg0L9oTE"
      }
    },
    {
      "cell_type": "code",
      "source": [
        "\n",
        "numero_inicial = 0\n",
        "for variable_inicial in range(101):\n",
        "  numero_inicial = numero_inicial + variable_inicial\n",
        "print(f\"el valor de la suma de todos los números del 1 al 100 es: {numero_inicial}\")\n"
      ],
      "metadata": {
        "colab": {
          "base_uri": "https://localhost:8080/"
        },
        "id": "maTBw4bt9gm0",
        "outputId": "b7c67a8c-0caa-4e24-93bc-e6bb8e528de6"
      },
      "execution_count": 11,
      "outputs": [
        {
          "output_type": "stream",
          "name": "stdout",
          "text": [
            "el valor de la suma de todos los números del 1 al 100 es: 5050\n"
          ]
        }
      ]
    },
    {
      "cell_type": "code",
      "source": [
        "a = []\n",
        "numero_inicial = 0\n",
        "for variable_inicial in range(101):\n",
        "  numero_inicial = numero_inicial + variable_inicial\n",
        "a.append(numero_inicial)\n",
        "print(a)\n"
      ],
      "metadata": {
        "colab": {
          "base_uri": "https://localhost:8080/"
        },
        "id": "LqypJSHD-uxz",
        "outputId": "3fd3f4db-dc50-4f5e-b601-da955615ebc4"
      },
      "execution_count": 13,
      "outputs": [
        {
          "output_type": "stream",
          "name": "stdout",
          "text": [
            "[5050]\n"
          ]
        }
      ]
    },
    {
      "cell_type": "markdown",
      "source": [
        "#EJERCICIO3:"
      ],
      "metadata": {
        "id": "lkMngEYj__Mj"
      }
    },
    {
      "cell_type": "code",
      "source": [
        "\n",
        "for variable in range(3,31,3):\n",
        "  print(variable)\n"
      ],
      "metadata": {
        "colab": {
          "base_uri": "https://localhost:8080/"
        },
        "id": "aEPF2yR5AA3K",
        "outputId": "7db5ec95-f595-49bc-bdc2-05aeaf3eeea3"
      },
      "execution_count": null,
      "outputs": [
        {
          "output_type": "stream",
          "name": "stdout",
          "text": [
            "3\n",
            "6\n",
            "9\n",
            "12\n",
            "15\n",
            "18\n",
            "21\n",
            "24\n",
            "27\n",
            "30\n"
          ]
        }
      ]
    },
    {
      "cell_type": "code",
      "source": [
        "lista = []\n",
        "for variable in range(3,31,3):\n",
        "  lista.append(variable)\n",
        "print(lista)"
      ],
      "metadata": {
        "colab": {
          "base_uri": "https://localhost:8080/"
        },
        "id": "85Ov_gozBZxp",
        "outputId": "ae69f06a-1d61-4dd3-97ce-b06e688a3598"
      },
      "execution_count": null,
      "outputs": [
        {
          "output_type": "stream",
          "name": "stdout",
          "text": [
            "[3, 6, 9, 12, 15, 18, 21, 24, 27, 30]\n"
          ]
        }
      ]
    },
    {
      "cell_type": "markdown",
      "source": [
        "#Ejercicio 4"
      ],
      "metadata": {
        "id": "1ghaGTYrCdbw"
      }
    },
    {
      "cell_type": "code",
      "source": [
        "print(\"multiplicar\")\n",
        "a =int(input(\"digita la tabla del numero que quieres\"))\n",
        "for variable in range(1,11,1):\n",
        "  print(f\"{a} * {variable} = {variable*a}\")"
      ],
      "metadata": {
        "colab": {
          "base_uri": "https://localhost:8080/"
        },
        "id": "KuFsMtYOB5bI",
        "outputId": "3a397733-e113-4245-9c43-369b0adf10f8"
      },
      "execution_count": 14,
      "outputs": [
        {
          "output_type": "stream",
          "name": "stdout",
          "text": [
            "multiplicar\n",
            "digita la tabla del numero que quieres5\n",
            "5 * 1 = 5\n",
            "5 * 2 = 10\n",
            "5 * 3 = 15\n",
            "5 * 4 = 20\n",
            "5 * 5 = 25\n",
            "5 * 6 = 30\n",
            "5 * 7 = 35\n",
            "5 * 8 = 40\n",
            "5 * 9 = 45\n",
            "5 * 10 = 50\n"
          ]
        }
      ]
    },
    {
      "cell_type": "code",
      "source": [
        "print(\"multiplicar\")\n",
        "lista = []\n",
        "a =int(input(\"digita la tabla del numero que quieres\"))\n",
        "for variable in range(1,11,1):\n",
        "\n",
        "  multiplicar = variable*a\n",
        "  lista.append(multiplicar)\n",
        "print(lista)"
      ],
      "metadata": {
        "colab": {
          "base_uri": "https://localhost:8080/"
        },
        "id": "4sd-bgwcCZ9Q",
        "outputId": "594dfbb2-e13e-4f05-ee95-8cee8b4b6d5e"
      },
      "execution_count": 15,
      "outputs": [
        {
          "output_type": "stream",
          "name": "stdout",
          "text": [
            "multiplicar\n",
            "digita la tabla del numero que quieres9\n",
            "[9, 18, 27, 36, 45, 54, 63, 72, 81, 90]\n"
          ]
        }
      ]
    },
    {
      "cell_type": "markdown",
      "source": [
        "#Ejercicio5"
      ],
      "metadata": {
        "id": "Yc67NEZ8WrDa"
      }
    },
    {
      "cell_type": "code",
      "source": [
        "lista = []\n",
        "print(\"el promedio\")\n",
        "for cantidad in range(5):\n",
        "  numeros = int(input(\"digita un numero\"))\n",
        "  lista.append(numeros)\n",
        "  prom = sum(lista)/len(lista)\n",
        "print(f\" la lista es {lista}. Su promedio por otra parte es {int(prom)}\")\n"
      ],
      "metadata": {
        "colab": {
          "base_uri": "https://localhost:8080/"
        },
        "id": "ZPNwdHhnWqcy",
        "outputId": "5852e458-1499-464f-ac08-d7184be51408"
      },
      "execution_count": 33,
      "outputs": [
        {
          "output_type": "stream",
          "name": "stdout",
          "text": [
            "el promedio\n",
            "digita un numero1\n",
            "digita un numero1\n",
            "digita un numero1\n",
            "digita un numero1\n",
            "digita un numero1\n",
            " la lista es [1, 1, 1, 1, 1]. Su promedio por otra parte es 1\n"
          ]
        }
      ]
    },
    {
      "cell_type": "code",
      "source": [
        "\n",
        "print(\"el promedio\")\n",
        "for cantidad in range(5):\n",
        "  numeros = int(input(\"digita un numero\"))\n",
        "  prom = sum(lista)/len(lista)\n",
        "print(f\"Su promedio es {int(prom)}\")"
      ],
      "metadata": {
        "colab": {
          "base_uri": "https://localhost:8080/"
        },
        "id": "ns2nG9-XbQqe",
        "outputId": "fe35144a-85d1-4256-ad5c-407783c6072e"
      },
      "execution_count": 34,
      "outputs": [
        {
          "output_type": "stream",
          "name": "stdout",
          "text": [
            "el promedio\n",
            "digita un numero1\n",
            "digita un numero1\n",
            "digita un numero1\n",
            "digita un numero1\n",
            "digita un numero1\n",
            "Su promedio es 1\n"
          ]
        }
      ]
    },
    {
      "cell_type": "markdown",
      "source": [
        "#EJERCICIO 6"
      ],
      "metadata": {
        "id": "I5m4OXsCyxZa"
      }
    },
    {
      "cell_type": "code",
      "source": [
        "lista= []\n",
        "print(\"tabla que cuenta los numeros enmedio de otros\")\n",
        "numero_final= int(input(\"digita un numero mayor a 1\"))\n",
        "for cantidad in range(2,numero_final):\n",
        "  lista.append(cantidad)\n",
        "print(lista)"
      ],
      "metadata": {
        "colab": {
          "base_uri": "https://localhost:8080/"
        },
        "id": "Tyl6J-VYzYBr",
        "outputId": "bf508177-406c-4ff1-938c-4410a1c7eb31"
      },
      "execution_count": 14,
      "outputs": [
        {
          "output_type": "stream",
          "name": "stdout",
          "text": [
            "tabla que cuenta los numeros enmedio de otros\n",
            "digita un numero mayor a 1100\n",
            "[2, 3, 4, 5, 6, 7, 8, 9, 10, 11, 12, 13, 14, 15, 16, 17, 18, 19, 20, 21, 22, 23, 24, 25, 26, 27, 28, 29, 30, 31, 32, 33, 34, 35, 36, 37, 38, 39, 40, 41, 42, 43, 44, 45, 46, 47, 48, 49, 50, 51, 52, 53, 54, 55, 56, 57, 58, 59, 60, 61, 62, 63, 64, 65, 66, 67, 68, 69, 70, 71, 72, 73, 74, 75, 76, 77, 78, 79, 80, 81, 82, 83, 84, 85, 86, 87, 88, 89, 90, 91, 92, 93, 94, 95, 96, 97, 98, 99]\n"
          ]
        }
      ]
    },
    {
      "cell_type": "code",
      "source": [
        "print(\"tabla que cuenta los numeros enmedio de otros\")\n",
        "numero_final= int(input(\"digita un numero mayor a 1\"))\n",
        "for cantidad in range(2,numero_final):\n",
        "  print(cantidad)"
      ],
      "metadata": {
        "colab": {
          "base_uri": "https://localhost:8080/"
        },
        "id": "L8kJCIZt87xa",
        "outputId": "48d02f4e-d823-4ea9-bd4b-c520863ef909"
      },
      "execution_count": 25,
      "outputs": [
        {
          "output_type": "stream",
          "name": "stdout",
          "text": [
            "tabla que cuenta los numeros enmedio de otros\n",
            "digita un numero mayor a 110\n",
            "2\n",
            "3\n",
            "4\n",
            "5\n",
            "6\n",
            "7\n",
            "8\n",
            "9\n"
          ]
        }
      ]
    },
    {
      "cell_type": "markdown",
      "source": [
        "#EJERCICIO7"
      ],
      "metadata": {
        "id": "wcHC7emC9f-5"
      }
    },
    {
      "cell_type": "code",
      "source": [
        "apellido_tuyo = input(\"Digita tu apellido: \")\n",
        "contraseña_valida = apellido_tuyo + str(len(apellido_tuyo))\n",
        "\n",
        "while True:\n",
        "    contraseña = input(\"Ingresa la contraseña: \")\n",
        "    if contraseña == contraseña_valida:\n",
        "        print(\"¡Contraseña correcta!\")\n",
        "        break\n",
        "    else:\n",
        "        print(\"Contraseña incorrecta, intenta de nuevo.\")\n"
      ],
      "metadata": {
        "colab": {
          "base_uri": "https://localhost:8080/"
        },
        "id": "amI7kRTj9iJ6",
        "outputId": "2cccae74-9dd9-452a-8f26-20927d04702b"
      },
      "execution_count": 27,
      "outputs": [
        {
          "output_type": "stream",
          "name": "stdout",
          "text": [
            "Digita tu apellido: Mauro\n",
            "Ingresa la contraseña: Mauro5\n",
            "¡Contraseña correcta!\n"
          ]
        }
      ]
    },
    {
      "cell_type": "code",
      "source": [
        "lista= []\n",
        "apellido_tuyo = input(\"Digita tu apellido: \")\n",
        "contraseña_valida = apellido_tuyo + str(len(apellido_tuyo))\n",
        "\n",
        "while True:\n",
        "    contraseña = input(\"Ingresa la contraseña: \")\n",
        "    if contraseña == contraseña_valida:\n",
        "        lista.append(contraseña_valida)\n",
        "        print(lista)\n",
        "        break\n",
        "    else:\n",
        "        print(\"Contraseña incorrecta, intenta de nuevo.\")"
      ],
      "metadata": {
        "colab": {
          "base_uri": "https://localhost:8080/"
        },
        "id": "4JlgB2Y1-C6B",
        "outputId": "f5ed988c-526b-4c72-f6a7-693c792c09fa"
      },
      "execution_count": 29,
      "outputs": [
        {
          "output_type": "stream",
          "name": "stdout",
          "text": [
            "Digita tu apellido: mauro\n",
            "Ingresa la contraseña: mauro5\n",
            "¡Contraseña correcta!\n",
            "['mauro5']\n"
          ]
        }
      ]
    },
    {
      "cell_type": "markdown",
      "source": [
        "#Ejercicio8"
      ],
      "metadata": {
        "id": "YtYudS5A-UwA"
      }
    },
    {
      "cell_type": "code",
      "source": [
        "a = 0\n",
        "b = 1\n",
        "n = int(input(\"¿Cuántos números de la serie de Fibonacci quieres ver?: \"))\n",
        "for i in range(n):\n",
        "    print(a, end= \" \")\n",
        "    a, b = b, a + b\n"
      ],
      "metadata": {
        "colab": {
          "base_uri": "https://localhost:8080/"
        },
        "id": "FhfGANSb-Wgx",
        "outputId": "1d5f79c6-c1ef-4d7e-ec72-6dec436be69b"
      },
      "execution_count": 38,
      "outputs": [
        {
          "output_type": "stream",
          "name": "stdout",
          "text": [
            "¿Cuántos números de la serie de Fibonacci quieres ver?: 10\n",
            "0 1 1 2 3 5 8 13 21 34 "
          ]
        }
      ]
    },
    {
      "cell_type": "code",
      "source": [
        "lista = []\n",
        "a = 0\n",
        "b = 1\n",
        "n = int(input(\"¿Cuántos números de la serie de Fibonacci quieres ver?: \"))\n",
        "for i in range(n):\n",
        "  lista.append(a)\n",
        "  a, b = b, a + b\n",
        "print(lista)"
      ],
      "metadata": {
        "colab": {
          "base_uri": "https://localhost:8080/"
        },
        "id": "Twi7FtqY-7GY",
        "outputId": "aee1e5e9-6b81-4e70-adf7-6ebe48d90d92"
      },
      "execution_count": 35,
      "outputs": [
        {
          "output_type": "stream",
          "name": "stdout",
          "text": [
            "¿Cuántos números de la serie de Fibonacci quieres ver?: 10\n",
            "[0, 1, 1, 2, 3, 5, 8, 13, 21, 34]\n"
          ]
        }
      ]
    },
    {
      "cell_type": "markdown",
      "source": [
        "#EJERCICIO9"
      ],
      "metadata": {
        "id": "0PyMQeJn_PUw"
      }
    },
    {
      "cell_type": "code",
      "source": [
        "numero = int(input(\"Ingresa un número: \"))\n",
        "\n",
        "if numero <= 1:\n",
        "    print(\"Obviamente no es primero\")\n",
        "else:\n",
        "    divisores = 0\n",
        "    for variable in range(1, numero + 1):\n",
        "        if numero % variable == 0:\n",
        "            divisores += 1\n",
        "\n",
        "    if divisores == 2:   # solo divisible por 1 y por sí mismo\n",
        "        print(numero, \"es primo\")\n",
        "    else:\n",
        "        print(f\"{numero} no es primo\")\n",
        "\n"
      ],
      "metadata": {
        "colab": {
          "base_uri": "https://localhost:8080/"
        },
        "id": "rPXmYO4V_U6H",
        "outputId": "19f51585-e11d-4c72-dd4c-add53d1510a0"
      },
      "execution_count": 44,
      "outputs": [
        {
          "output_type": "stream",
          "name": "stdout",
          "text": [
            "Ingresa un número: 2\n",
            "2 es primo\n"
          ]
        }
      ]
    },
    {
      "cell_type": "code",
      "source": [
        "print(\"Aparecerá una lista con el número si es primo\")\n",
        "lista = []\n",
        "numero = int(input(\"Ingresa un número: \"))\n",
        "\n",
        "if numero <= 1:\n",
        "    print(\"Obviamente no es primo\")\n",
        "else:\n",
        "    divisores = 0\n",
        "    for variable in range(1, numero + 1):\n",
        "        if numero % variable == 0:\n",
        "            divisores += 1\n",
        "\n",
        "    if divisores == 2:\n",
        "        lista.append(numero)\n",
        "        print(lista)\n",
        "    else:\n",
        "        print(f\"{numero} no es primo\")\n"
      ],
      "metadata": {
        "colab": {
          "base_uri": "https://localhost:8080/"
        },
        "id": "Rt_t5oj5_8ZH",
        "outputId": "3362ef30-f163-4964-f299-b718e86704fa"
      },
      "execution_count": 46,
      "outputs": [
        {
          "output_type": "stream",
          "name": "stdout",
          "text": [
            "aparecerá una lista con el numero si es primo\n",
            "Ingresa un número: 3\n",
            "[3, 3]\n"
          ]
        }
      ]
    },
    {
      "cell_type": "markdown",
      "source": [
        "#ejercicio10"
      ],
      "metadata": {
        "id": "4tlqahFYAaDW"
      }
    },
    {
      "cell_type": "code",
      "source": [
        "cantidad = int(input(\"¿Cuántos números vas a ingresar?: \"))\n",
        "positivos, negativos, ceros = 0,0,0\n",
        "for varialbe in range(cantidad):\n",
        "    numero = int(input(f\"Ingresa el número {varialbe+1}: \"))\n",
        "    if numero > 0:\n",
        "        positivos += 1\n",
        "    elif numero < 0:\n",
        "        negativos += 1\n",
        "    else:\n",
        "        ceros += 1\n",
        "\n",
        "print(f\"Cantidad de positivos:, {positivos}\")\n",
        "print(f\"Cantidad de negativos:, {negativos}\")\n",
        "print(f\"Cantidad de ceros:, {ceros}\")\n"
      ],
      "metadata": {
        "colab": {
          "base_uri": "https://localhost:8080/"
        },
        "id": "S2TXoIz5Acpm",
        "outputId": "c2c5ecfc-0b28-404a-db99-a74227cfb2f1"
      },
      "execution_count": 50,
      "outputs": [
        {
          "output_type": "stream",
          "name": "stdout",
          "text": [
            "¿Cuántos números vas a ingresar?: 2\n",
            "Ingresa el número 1: 1\n",
            "Ingresa el número 2: 3\n",
            "Cantidad de positivos:, 2\n",
            "Cantidad de negativos:, 0\n",
            "Cantidad de ceros:, 0\n"
          ]
        }
      ]
    },
    {
      "cell_type": "code",
      "source": [
        "cantidad = int(input(\"¿Cuántos números vas a ingresar?: \"))\n",
        "positivos = []\n",
        "negativos = []\n",
        "ceros = []\n",
        "\n",
        "for varialbe in range(cantidad):\n",
        "    numero = int(input(f\"Ingresa el número {varialbe+1}: \"))\n",
        "    if numero > 0:\n",
        "        positivos.append(numero)\n",
        "    elif numero < 0:\n",
        "        negativos.append(numero)\n",
        "    else:\n",
        "        ceros.append(numero)\n",
        "\n",
        "print(f\"Cantidad de positivos: {len(positivos)} -> {positivos}\")\n",
        "print(f\"Cantidad de negativos: {len(negativos)} -> {negativos}\")\n",
        "print(f\"Cantidad de ceros: {len(ceros)} -> {ceros}\")\n"
      ],
      "metadata": {
        "id": "VXwDGgAiBYSe"
      },
      "execution_count": null,
      "outputs": []
    }
  ]
}