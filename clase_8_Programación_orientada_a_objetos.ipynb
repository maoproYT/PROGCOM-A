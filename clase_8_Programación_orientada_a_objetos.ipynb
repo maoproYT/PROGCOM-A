{
  "nbformat": 4,
  "nbformat_minor": 0,
  "metadata": {
    "colab": {
      "provenance": [],
      "authorship_tag": "ABX9TyMI3JwNZvZXQ8YhhGVkYTQ2",
      "include_colab_link": true
    },
    "kernelspec": {
      "name": "python3",
      "display_name": "Python 3"
    },
    "language_info": {
      "name": "python"
    }
  },
  "cells": [
    {
      "cell_type": "markdown",
      "metadata": {
        "id": "view-in-github",
        "colab_type": "text"
      },
      "source": [
        "<a href=\"https://colab.research.google.com/github/maoproYT/PROGCOM-A/blob/main/clase_8_Programaci%C3%B3n_orientada_a_objetos.ipynb\" target=\"_parent\"><img src=\"https://colab.research.google.com/assets/colab-badge.svg\" alt=\"Open In Colab\"/></a>"
      ]
    },
    {
      "cell_type": "code",
      "execution_count": 1,
      "metadata": {
        "colab": {
          "base_uri": "https://localhost:8080/"
        },
        "id": "b2JA6ETjF5sv",
        "outputId": "007d4445-d905-4cde-da44-2e992c414326"
      },
      "outputs": [
        {
          "output_type": "execute_result",
          "data": {
            "text/plain": [
              "['claveles', 'clavel', 'margarita']"
            ]
          },
          "metadata": {},
          "execution_count": 1
        }
      ],
      "source": [
        "\n",
        "#Floristería\n",
        "# 1. Conjunto de flores, se elige aleatoriamente una cantidad\n",
        "import random\n",
        "flores=[\"tulipán\", \"rosa\", \"dahlia\", \"margarita\", \"claveles\", \"lirio\", \"girasol\", \"clavel\", \"orquídea\"]\n",
        "seleccion=random. sample(flores,3)\n",
        "seleccion\n"
      ]
    },
    {
      "cell_type": "code",
      "source": [
        "def inventario():\n",
        "  flores=[\"tulipán\", \"rosa\", \"dahlia\", \"margarita\", \"claveles\", \"lirio\", \"girasol\", \"clavel\", \"orquídea\"]\n",
        "  seleccion=random. sample(flores,3)\n",
        "\n",
        "  inventario={\n",
        "      flor:{\n",
        "           \"precio\":random.randint(2000,6000),\n",
        "           \"cantidad\":random.randint(10,50),\n",
        "           \"vendidas\":0\n",
        "      } for flor in seleccion\n",
        "      }\n",
        "  return inventario"
      ],
      "metadata": {
        "id": "xF5J_A3LGijX"
      },
      "execution_count": 2,
      "outputs": []
    },
    {
      "cell_type": "code",
      "source": [
        "\n",
        "inventario()"
      ],
      "metadata": {
        "colab": {
          "base_uri": "https://localhost:8080/"
        },
        "id": "to0SOQA4GqM8",
        "outputId": "0562a43d-de8e-4d91-b2ba-e4ecbc152f7a"
      },
      "execution_count": 3,
      "outputs": [
        {
          "output_type": "execute_result",
          "data": {
            "text/plain": [
              "{'lirio': {'precio': 3844, 'cantidad': 39, 'vendidas': 0},\n",
              " 'rosa': {'precio': 4974, 'cantidad': 43, 'vendidas': 0},\n",
              " 'claveles': {'precio': 5169, 'cantidad': 36, 'vendidas': 0}}"
            ]
          },
          "metadata": {},
          "execution_count": 3
        }
      ]
    },
    {
      "cell_type": "code",
      "source": [
        "flor=inventario()\n",
        "flor.items()\n"
      ],
      "metadata": {
        "colab": {
          "base_uri": "https://localhost:8080/"
        },
        "id": "fnpmFp5jGqK4",
        "outputId": "a36d7e80-9071-49b8-a5df-2cfe26a3182d"
      },
      "execution_count": 4,
      "outputs": [
        {
          "output_type": "execute_result",
          "data": {
            "text/plain": [
              "dict_items([('clavel', {'precio': 3655, 'cantidad': 15, 'vendidas': 0}), ('claveles', {'precio': 4139, 'cantidad': 38, 'vendidas': 0}), ('dahlia', {'precio': 5712, 'cantidad': 10, 'vendidas': 0})])"
            ]
          },
          "metadata": {},
          "execution_count": 4
        }
      ]
    },
    {
      "cell_type": "code",
      "source": [
        "def menu(inventario):\n",
        "  print(\"\\n---MENÚ DE FLORES DISPONIBLES FLORISTERÍA CARLITOS---\")\n",
        "  for flor,datos in inventario.items():\n",
        "    print(f\"{flor}: ${datos[\"precio\"]} cant: {datos[\"cantidad\"]} disponibles\")\n",
        "  print(\"-----------------------------------------------------\")\n",
        ""
      ],
      "metadata": {
        "id": "8XyV9x5dG2JD"
      },
      "execution_count": 5,
      "outputs": []
    },
    {
      "cell_type": "code",
      "source": [
        "menu(inventario())\n"
      ],
      "metadata": {
        "colab": {
          "base_uri": "https://localhost:8080/"
        },
        "id": "glBpEFnZG6pP",
        "outputId": "ab894e00-1cba-452d-e1ed-3c05e368798e"
      },
      "execution_count": 6,
      "outputs": [
        {
          "output_type": "stream",
          "name": "stdout",
          "text": [
            "\n",
            "---MENÚ DE FLORES DISPONIBLES FLORISTERÍA CARLITOS---\n",
            "claveles: $3453 cant: 39 disponibles\n",
            "girasol: $4396 cant: 38 disponibles\n",
            "margarita: $5196 cant: 45 disponibles\n",
            "-----------------------------------------------------\n"
          ]
        }
      ]
    },
    {
      "cell_type": "code",
      "source": [
        "def ventas(inventario,flor,cantidad,total_ganado):\n",
        "  if flor not in inventario:\n",
        "    print(f\"{flor} no se encuentra a la venta🤷‍♀️\")\n",
        "    return total_ganado\n",
        "  datos=inventario[flor]\n",
        "  if cantidad>datos[\"cantidad\"]:\n",
        "    print(\"Los einto, no tenemos la cantidad solicitada\")\n",
        "    return total_ganado\n",
        "\n",
        "  #Realizando la venta\n",
        "  datos[\"cantidad\"]-=cantidad\n",
        "  datos[\"vendidas\"]+=cantidad\n",
        "  venta= datos[\"precio\"] * cantidad\n",
        "  total_ganado+=venta\n",
        "  print(f\"Vendidas:{cantidad} de {flor} por un total de ${venta}\")\n",
        "\n",
        "  #Si se acaba, eliminamos la flor\n",
        "  if datos[\"cantidad\"]==0:\n",
        "      print(f\"{flor} ha sido elimanada del inventario \")\n",
        "      del inventario [flor]\n",
        "  return total_ganado"
      ],
      "metadata": {
        "id": "1Wz6yzwoG-If"
      },
      "execution_count": 7,
      "outputs": []
    },
    {
      "cell_type": "code",
      "source": [
        "def cerrar_tienda(inventario_inicial, inventario_final,total_ganado):\n",
        "  print(\"n\\---Tienda Cerrada---\")\n",
        "  #Combinar el inventario inicial con el final para saber cuántas se vendieron n\n",
        "  flores_vendidas={}\n",
        "  for flor,datos in inventario_inicial. items():\n",
        "    cantidad_final=inventario_final.get(flor,{\"cantidad\":0}) [\"cantidad\"]\n",
        "    vendidas=datos[\"cantidad\"]-cantidad_final\n",
        "    flores_vendidas[flor]=vendidas\n",
        "\n",
        "#Determinar cuales fueron las más vendidas\n",
        "    mas_vendidas=max(flores_vendidas,key=flores_vendidas.get)\n",
        "    menos_vendidas=min(flores_vendidas, key=flores_vendidas.get)\n",
        "\n",
        "    print(f\"La flor más vendida fue {mas_vendidas}:{flores_vendidas[mas_vendidas]}\")\n",
        "    print(f\"La flor menos vendida fue {menos_vendidas}:{flores_vendidas[menos_vendidas]}\")\n"
      ],
      "metadata": {
        "colab": {
          "base_uri": "https://localhost:8080/"
        },
        "id": "i5Xe82ZlHB_5",
        "outputId": "19ff5490-e8e6-41ae-da70-d5b3730f2612"
      },
      "execution_count": 8,
      "outputs": [
        {
          "output_type": "stream",
          "name": "stderr",
          "text": [
            "<>:2: SyntaxWarning: invalid escape sequence '\\-'\n",
            "<>:2: SyntaxWarning: invalid escape sequence '\\-'\n",
            "/tmp/ipython-input-1464058205.py:2: SyntaxWarning: invalid escape sequence '\\-'\n",
            "  print(\"n\\---Tienda Cerrada---\")\n"
          ]
        }
      ]
    },
    {
      "cell_type": "code",
      "source": [
        "flor\n"
      ],
      "metadata": {
        "colab": {
          "base_uri": "https://localhost:8080/"
        },
        "id": "AYl0ZCTjHD9E",
        "outputId": "ed3d6b5b-e3fe-4589-f35b-afd2ade7acb8"
      },
      "execution_count": 9,
      "outputs": [
        {
          "output_type": "execute_result",
          "data": {
            "text/plain": [
              "{'clavel': {'precio': 3655, 'cantidad': 15, 'vendidas': 0},\n",
              " 'claveles': {'precio': 4139, 'cantidad': 38, 'vendidas': 0},\n",
              " 'dahlia': {'precio': 5712, 'cantidad': 10, 'vendidas': 0}}"
            ]
          },
          "metadata": {},
          "execution_count": 9
        }
      ]
    },
    {
      "cell_type": "code",
      "source": [
        "total_ganado=0\n",
        "total_ganado=ventas(flor,\"rosa\",10, total_ganado)\n",
        "total_ganado=ventas(flor, \"claveles\", 18, total_ganado)\n",
        "total_ganado=ventas(flor, \"margarita\",80, total_ganado)"
      ],
      "metadata": {
        "colab": {
          "base_uri": "https://localhost:8080/"
        },
        "id": "gHnkONq6HGUs",
        "outputId": "b13cd8e0-a8b5-4513-a312-b54593def67c"
      },
      "execution_count": 10,
      "outputs": [
        {
          "output_type": "stream",
          "name": "stdout",
          "text": [
            "rosa no se encuentra a la venta🤷‍♀️\n",
            "Vendidas:18 de claveles por un total de $74502\n",
            "margarita no se encuentra a la venta🤷‍♀️\n"
          ]
        }
      ]
    },
    {
      "cell_type": "code",
      "source": [
        "menu(flor)\n"
      ],
      "metadata": {
        "colab": {
          "base_uri": "https://localhost:8080/"
        },
        "id": "rOlYDpC6HLIy",
        "outputId": "c629718c-ea44-44a5-f9ff-00865253c0c7"
      },
      "execution_count": 11,
      "outputs": [
        {
          "output_type": "stream",
          "name": "stdout",
          "text": [
            "\n",
            "---MENÚ DE FLORES DISPONIBLES FLORISTERÍA CARLITOS---\n",
            "clavel: $3655 cant: 15 disponibles\n",
            "claveles: $4139 cant: 20 disponibles\n",
            "dahlia: $5712 cant: 10 disponibles\n",
            "-----------------------------------------------------\n"
          ]
        }
      ]
    },
    {
      "cell_type": "code",
      "source": [
        "cerrar_tienda()\n"
      ],
      "metadata": {
        "id": "4Rgp_B2JHMlw"
      },
      "execution_count": null,
      "outputs": []
    }
  ]
}