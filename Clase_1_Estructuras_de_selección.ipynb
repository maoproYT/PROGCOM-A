{
  "nbformat": 4,
  "nbformat_minor": 0,
  "metadata": {
    "colab": {
      "provenance": [],
      "authorship_tag": "ABX9TyPJyLuNnRmKKfWZqMtlIYr2",
      "include_colab_link": true
    },
    "kernelspec": {
      "name": "python3",
      "display_name": "Python 3"
    },
    "language_info": {
      "name": "python"
    }
  },
  "cells": [
    {
      "cell_type": "markdown",
      "metadata": {
        "id": "view-in-github",
        "colab_type": "text"
      },
      "source": [
        "<a href=\"https://colab.research.google.com/github/maoproYT/PROGCOM-A/blob/main/Clase_1_Estructuras_de_selecci%C3%B3n.ipynb\" target=\"_parent\"><img src=\"https://colab.research.google.com/assets/colab-badge.svg\" alt=\"Open In Colab\"/></a>"
      ]
    },
    {
      "cell_type": "markdown",
      "source": [
        "#Ejercicio 2"
      ],
      "metadata": {
        "id": "eiEPzt_CETIF"
      }
    },
    {
      "cell_type": "code",
      "source": [
        "#2\tEscribe un programa que reciba una edad y determine si la persona es mayor de edad.\n",
        "n=int(input(\" ingresa una edad\"))\n",
        "if n>=18:\n",
        "  print(\" es mayor de edad\")\n",
        "else:\n",
        "  n<=17\n",
        "  print(\" es menor de edad\")"
      ],
      "metadata": {
        "id": "8HJWlYH1EX9s"
      },
      "execution_count": null,
      "outputs": []
    },
    {
      "cell_type": "code",
      "source": [
        "n=int(input(\" ingresa una edad\"))\n",
        "if n>=18:print(f\"{n} es mayor de edad\")\n",
        "elif n<=17:print(f\"{n} NO es mayor de edad\")\n",
        "else:print(f\"NO es mayor de edad\")"
      ],
      "metadata": {
        "id": "Xl9TLQUwEcAM"
      },
      "execution_count": null,
      "outputs": []
    },
    {
      "cell_type": "code",
      "source": [
        "print(f\"{n} Es mayor de edad\") if n>=18 else print(f\"{n} NO es mayor de edad\")"
      ],
      "metadata": {
        "id": "Vl_nx9trEgp9"
      },
      "execution_count": null,
      "outputs": []
    },
    {
      "cell_type": "markdown",
      "source": [
        "#EJERCICIO 3"
      ],
      "metadata": {
        "id": "cEOKon8HEiy8"
      }
    },
    {
      "cell_type": "code",
      "source": [
        "#3 manera 1 -\tEscribe un programa que reciba dos números e imprima el mayor.\n",
        "n1=int(input(\"ingresa un numero\"))\n",
        "n2=int(input(\"ingresa otro numero\"))\n",
        "if n1>n2:\n",
        "  print(n1, \"es mayor\")\n",
        "else:\n",
        "  n2>n1\n",
        "  print(n2, \"es mayor\")"
      ],
      "metadata": {
        "id": "nGwDz8I4Eki8"
      },
      "execution_count": null,
      "outputs": []
    },
    {
      "cell_type": "code",
      "source": [
        "elif n2>n1:print(f\"{n} es mayor\")\n",
        "else:print(f\"NO es mayor\")"
      ],
      "metadata": {
        "id": "ul8xmbn6Emhk"
      },
      "execution_count": null,
      "outputs": []
    },
    {
      "cell_type": "code",
      "source": [
        "print(f\"{n} es mayor\") if n1>n2 else print(f\"{n} es mayor \")"
      ],
      "metadata": {
        "id": "o6iYSSDREpFN"
      },
      "execution_count": null,
      "outputs": []
    },
    {
      "cell_type": "markdown",
      "source": [
        "#Ejercicio 4\n"
      ],
      "metadata": {
        "id": "unie-sJMEE55"
      }
    },
    {
      "cell_type": "code",
      "source": [
        "n=int(input(\"Ingrese su calificacion\"))\n",
        "if n>=60:\n",
        "  print (f\"{n} aprobo\")\n",
        "else:\n",
        "  print (n, \"No aprobo\")    MANERA 2: n=int(input(\"Ingrese su calificacion\"))\n",
        "if n>=60:\n",
        "    print (f\"{n} aprobo\")\n",
        "elif n<60:\n",
        "    print (n, \"No aprobo\")\n",
        "else:\n",
        "  print(f\"(n) es 0\")  MANERA 3: n=int(input(\"Ingrese su calificacion\"))\n",
        "print (f\"(n) Aprobo\") if n>=60 else print(f\"(n) No aprobo\")"
      ],
      "metadata": {
        "id": "7OiXOUMtEG0F"
      },
      "execution_count": null,
      "outputs": []
    },
    {
      "cell_type": "code",
      "source": [],
      "metadata": {
        "id": "XKNvP8p9EJpN"
      },
      "execution_count": null,
      "outputs": []
    },
    {
      "cell_type": "markdown",
      "source": [
        "#Ejercicio 5"
      ],
      "metadata": {
        "id": "m0GDucyYD3Ft"
      }
    },
    {
      "cell_type": "code",
      "source": [
        "a=int(input(\"Ingrese un número \"))\n",
        "if a==0:\n",
        " print (a, \"es 0\")\n",
        "elif a%2==0:\n",
        " print (f\"{a} es un número par\")\n",
        "else:\n",
        " print (a, \"es un número impar\")"
      ],
      "metadata": {
        "id": "20hgusfaD7PF"
      },
      "execution_count": null,
      "outputs": []
    },
    {
      "cell_type": "code",
      "source": [
        "a=int(input(\"Ingrese un número\"))\n",
        "if a%2==0:\n",
        " print (f\"{a} es un número par\")\n",
        "else:\n",
        " print (a, \"es un número impar\")"
      ],
      "metadata": {
        "id": "ue3-lTSYD_9F"
      },
      "execution_count": null,
      "outputs": []
    },
    {
      "cell_type": "markdown",
      "source": [
        "#Ejercicio 6"
      ],
      "metadata": {
        "id": "3uzEbkQEEOmc"
      }
    },
    {
      "cell_type": "code",
      "source": [
        "n=int(input(\"Ingrese un número \"))\n",
        "m=int(input(\"Ingrese un número \"))\n",
        "p=int(input(\"Ingrese un número \"))\n",
        "if n>m and n>p:\n",
        " print (f\"{n} es mayor\")\n",
        "elif m>n and m>p:\n",
        "  print(f\"{m} es mayor\")\n",
        "else:\n",
        " print(p, \"es mayor\")"
      ],
      "metadata": {
        "id": "nIV5hKe0EQPN"
      },
      "execution_count": null,
      "outputs": []
    },
    {
      "cell_type": "code",
      "source": [],
      "metadata": {
        "id": "49COQIwEEQzM"
      },
      "execution_count": null,
      "outputs": []
    },
    {
      "cell_type": "markdown",
      "source": [
        "#EJERCICIO 8"
      ],
      "metadata": {
        "id": "l1rP3aXcAYgQ"
      }
    },
    {
      "cell_type": "code",
      "execution_count": 9,
      "metadata": {
        "colab": {
          "base_uri": "https://localhost:8080/"
        },
        "id": "jNGnaoBU8lI3",
        "outputId": "33afdff7-a230-4406-b90a-c5b36fe548d8"
      },
      "outputs": [
        {
          "output_type": "stream",
          "name": "stdout",
          "text": [
            "Digita la contraseña de al menos 8 caracteres: 31jfjej4Rr\n",
            "31jfjej4Rr es válida\n"
          ]
        }
      ],
      "source": [
        "contraseña_mauro = input(\"Digita la contraseña de al menos 8 caracteres: \")\n",
        "\n",
        "tiene_longitud = len(contraseña_mauro) >= 8\n",
        "tiene_numero = any(caracter.isdigit() for caracter in contraseña_mauro)\n",
        "tiene_mayuscula = any(caracter.isupper() for caracter in contraseña_mauro)\n",
        "\n",
        "if tiene_longitud and tiene_numero and tiene_mayuscula:\n",
        "    print(f\"{contraseña_mauro} es válida\")\n",
        "else:\n",
        "    print(f\"{contraseña_mauro} no es válida\")"
      ]
    },
    {
      "cell_type": "code",
      "source": [
        "print((contraseña_mauro := input(\"Digita la contraseña de al menos 8 caracteres: \")) + (\" es válida\" if len(contraseña_mauro) >= 8 and any(c.isdigit() for c in contraseña_mauro) and any(c.isupper() for c in contraseña_mauro) else \" no es válida\"))\n"
      ],
      "metadata": {
        "colab": {
          "base_uri": "https://localhost:8080/"
        },
        "id": "uNNPStaF-gY5",
        "outputId": "9c735909-493a-4f20-cddc-4fd5cdb25dfe"
      },
      "execution_count": 7,
      "outputs": [
        {
          "output_type": "stream",
          "name": "stdout",
          "text": [
            "Digita la contraseña de al menos 8 caracteres: Ulgjajr919843\n",
            "Ulgjajr919843 es válida\n"
          ]
        }
      ]
    },
    {
      "cell_type": "code",
      "source": [
        "contraseña_mauro = input(\"Digita la contraseña de al menos 8 caracteres: \")\n",
        "\n",
        "tiene_longitud = len(contraseña_mauro) >= 8\n",
        "tiene_numero = any(caracter.isdigit() for caracter in contraseña_mauro)\n",
        "tiene_mayuscula = any(caracter.isupper() for caracter in contraseña_mauro)\n",
        "\n",
        "if tiene_longitud and tiene_numero and tiene_mayuscula:\n",
        "    print(f\"{contraseña_mauro} es válida\")\n",
        "elif tiene_longitud or tiene_numero or tiene_mayuscula:\n",
        "    print(f\"{contraseña_mauro} le falta un elemento\")\n",
        "else:\n",
        "    print(f\"{contraseña_mauro} no es válida\")"
      ],
      "metadata": {
        "id": "zHujzelN_Aza"
      },
      "execution_count": null,
      "outputs": []
    },
    {
      "cell_type": "markdown",
      "source": [
        "#EJERCICIO 9"
      ],
      "metadata": {
        "id": "EjD1qmiDAcc_"
      }
    },
    {
      "cell_type": "code",
      "source": [
        "numero = int(input(\"digita un numero y te cuento un secreto :\"))\n",
        "\n",
        "if numero % 3 == 0 and numero % 5 == 0:\n",
        "  print(\"el numero es divisible en 5 y 3 :0\")\n",
        "else:\n",
        "  if numero  % 3 == 0:\n",
        "    print(\"es divisible solamente en 3\")\n",
        "  else:\n",
        "    if numero % 5 == 0:\n",
        "     print(\"es divisible en 5 solamente\")\n",
        "    else:\n",
        "      print(\"no es divisible en 5 o 3\")"
      ],
      "metadata": {
        "colab": {
          "base_uri": "https://localhost:8080/"
        },
        "id": "cd3poBI2AnqR",
        "outputId": "5c63b5ef-7ec5-4360-b2ac-f3d636ca7f98"
      },
      "execution_count": 14,
      "outputs": [
        {
          "output_type": "stream",
          "name": "stdout",
          "text": [
            "digita un numero y te cuento un secreto :17\n",
            "no es divisible en 5 o 3\n"
          ]
        }
      ]
    },
    {
      "cell_type": "code",
      "source": [
        "numero = int(input(\"Digita un número y te cuento un secreto: \"))\n",
        "\n",
        "if numero % 3 == 0 and numero % 5 == 0:\n",
        "    print(\"El número es divisible entre 5 y 3 :0\")\n",
        "elif numero % 3 == 0:\n",
        "    print(\"Es divisible solamente entre 3\")\n",
        "elif numero % 5 == 0:\n",
        "    print(\"Es divisible solamente entre 5\")\n",
        "else:\n",
        "    print(\"No es divisible entre 5 o 3\")\n"
      ],
      "metadata": {
        "colab": {
          "base_uri": "https://localhost:8080/"
        },
        "id": "JAAWFyFoCD_2",
        "outputId": "264809ae-c9d9-44db-a3eb-1aa6d0eed26c"
      },
      "execution_count": 13,
      "outputs": [
        {
          "output_type": "stream",
          "name": "stdout",
          "text": [
            "Digita un número y te cuento un secreto: 17\n",
            "No es divisible entre 5 o 3\n"
          ]
        }
      ]
    },
    {
      "cell_type": "code",
      "source": [
        "print((lambda n: \"el numero es divisible en 5 y 3 :0\" if n % 3 == 0 and n % 5 == 0 else \"es divisible solamente en 3\" if n % 3 == 0 else \"es divisible en 5 solamente\" if n % 5 == 0 else \"no es divisible en 5 o 3\")(int(input(\"digita un numero y te cuento un secreto :\"))))\n"
      ],
      "metadata": {
        "id": "n6MeVqpSCzYQ"
      },
      "execution_count": null,
      "outputs": []
    }
  ]
}